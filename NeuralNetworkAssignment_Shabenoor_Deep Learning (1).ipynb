{
 "cells": [
  {
   "cell_type": "markdown",
   "metadata": {},
   "source": [
    "### Analysis and Prediction on Data :Defaulted Credit Card Clients"
   ]
  },
  {
   "cell_type": "code",
   "execution_count": 1,
   "metadata": {},
   "outputs": [
    {
     "name": "stderr",
     "output_type": "stream",
     "text": [
      "Warning message:\n",
      "\"package 'mlr' was built under R version 3.6.3\"Loading required package: ParamHelpers\n",
      "Warning message:\n",
      "\"package 'ParamHelpers' was built under R version 3.6.2\"'mlr' is in maintenance mode since July 2019. Future development\n",
      "efforts will go into its successor 'mlr3' (<https://mlr3.mlr-org.com>).\n",
      "Warning message:\n",
      "\"package 'caret' was built under R version 3.6.3\"Loading required package: lattice\n",
      "Loading required package: ggplot2\n",
      "Warning message:\n",
      "\"package 'ggplot2' was built under R version 3.6.1\"\n",
      "Attaching package: 'caret'\n",
      "\n",
      "The following object is masked from 'package:mlr':\n",
      "\n",
      "    train\n",
      "\n",
      "Installing package into 'C:/Users/skamal/Documents/R/win-library/3.6'\n",
      "(as 'lib' is unspecified)\n"
     ]
    },
    {
     "name": "stdout",
     "output_type": "stream",
     "text": [
      "package 'neuralnet' successfully unpacked and MD5 sums checked\n",
      "\n",
      "The downloaded binary packages are in\n",
      "\tC:\\Users\\skamal\\AppData\\Local\\Temp\\RtmpCukbJs\\downloaded_packages\n"
     ]
    },
    {
     "name": "stderr",
     "output_type": "stream",
     "text": [
      "Warning message:\n",
      "\"package 'neuralnet' was built under R version 3.6.3\"Installing package into 'C:/Users/skamal/Documents/R/win-library/3.6'\n",
      "(as 'lib' is unspecified)\n"
     ]
    },
    {
     "name": "stdout",
     "output_type": "stream",
     "text": [
      "package 'LiblineaR' successfully unpacked and MD5 sums checked\n",
      "\n",
      "The downloaded binary packages are in\n",
      "\tC:\\Users\\skamal\\AppData\\Local\\Temp\\RtmpCukbJs\\downloaded_packages\n"
     ]
    },
    {
     "name": "stderr",
     "output_type": "stream",
     "text": [
      "Warning message:\n",
      "\"package 'randomForest' was built under R version 3.6.2\"randomForest 4.6-14\n",
      "Type rfNews() to see new features/changes/bug fixes.\n",
      "\n",
      "Attaching package: 'randomForest'\n",
      "\n",
      "The following object is masked from 'package:ggplot2':\n",
      "\n",
      "    margin\n",
      "\n",
      "Installing package into 'C:/Users/skamal/Documents/R/win-library/3.6'\n",
      "(as 'lib' is unspecified)\n"
     ]
    },
    {
     "name": "stdout",
     "output_type": "stream",
     "text": [
      "package 'adabag' successfully unpacked and MD5 sums checked\n",
      "\n",
      "The downloaded binary packages are in\n",
      "\tC:\\Users\\skamal\\AppData\\Local\\Temp\\RtmpCukbJs\\downloaded_packages\n"
     ]
    },
    {
     "name": "stderr",
     "output_type": "stream",
     "text": [
      "Warning message:\n",
      "\"package 'adabag' was built under R version 3.6.3\"Loading required package: rpart\n",
      "Loading required package: foreach\n",
      "Warning message:\n",
      "\"package 'foreach' was built under R version 3.6.2\"Loading required package: doParallel\n",
      "Warning message:\n",
      "\"package 'doParallel' was built under R version 3.6.3\"Loading required package: iterators\n",
      "Warning message:\n",
      "\"package 'iterators' was built under R version 3.6.2\"Loading required package: parallel\n",
      "Warning message:\n",
      "\"package 'e1071' was built under R version 3.6.2\"\n",
      "Attaching package: 'e1071'\n",
      "\n",
      "The following object is masked from 'package:mlr':\n",
      "\n",
      "    impute\n",
      "\n",
      "Warning message:\n",
      "\"package 'plotly' was built under R version 3.6.2\"\n",
      "Attaching package: 'plotly'\n",
      "\n",
      "The following object is masked from 'package:ggplot2':\n",
      "\n",
      "    last_plot\n",
      "\n",
      "The following object is masked from 'package:stats':\n",
      "\n",
      "    filter\n",
      "\n",
      "The following object is masked from 'package:graphics':\n",
      "\n",
      "    layout\n",
      "\n"
     ]
    }
   ],
   "source": [
    "\n",
    "#Import Libraries\n",
    "library(mlr)           # ML toolkit\n",
    "library(caret)         # ML toolkit\n",
    "library(nnet)          # class.ind() function\n",
    "install.packages('neuralnet')\n",
    "library(neuralnet)     # Deep Neural Networks\n",
    "install.packages('LiblineaR')\n",
    "library(LiblineaR)     # LR Lasso (l1)\n",
    "library(randomForest)  # Random Forest\n",
    "install.packages('adabag')\n",
    "library(adabag)        # Boosting\n",
    "library(e1071)         # SVM\n",
    "library(ggplot2)       # Visualization\n",
    "library(plotly)        # 3D visualization\n",
    "\n",
    "# Resize plot\n",
    "library(repr)  # String and binary representations"
   ]
  },
  {
   "cell_type": "code",
   "execution_count": 2,
   "metadata": {},
   "outputs": [],
   "source": [
    "setwd(\"C:/Users/skamal/Desktop/Stat and machine learning/SML_Section7_v2.1/data/com1_default\")\n"
   ]
  },
  {
   "cell_type": "code",
   "execution_count": 3,
   "metadata": {},
   "outputs": [],
   "source": [
    "# Read data\n",
    "defaultCards <- read.csv('default.csv', sep=';')\n"
   ]
  },
  {
   "cell_type": "code",
   "execution_count": 4,
   "metadata": {},
   "outputs": [
    {
     "data": {
      "text/html": [
       "<table>\n",
       "<thead><tr><th scope=col>X</th><th scope=col>X1</th><th scope=col>X2</th><th scope=col>X3</th><th scope=col>X4</th><th scope=col>X5</th><th scope=col>X6</th><th scope=col>X7</th><th scope=col>X8</th><th scope=col>X9</th><th scope=col>...</th><th scope=col>X15</th><th scope=col>X16</th><th scope=col>X17</th><th scope=col>X18</th><th scope=col>X19</th><th scope=col>X20</th><th scope=col>X21</th><th scope=col>X22</th><th scope=col>X23</th><th scope=col>Y</th></tr></thead>\n",
       "<tbody>\n",
       "\t<tr><td>1     </td><td> 20000</td><td>2     </td><td>2     </td><td>1     </td><td>24    </td><td> 2    </td><td>2     </td><td>-1    </td><td>-1    </td><td>...   </td><td>    0 </td><td>    0 </td><td>    0 </td><td>   0  </td><td>  689 </td><td>    0 </td><td>   0  </td><td>   0  </td><td>   0  </td><td>1     </td></tr>\n",
       "\t<tr><td>2     </td><td>120000</td><td>2     </td><td>2     </td><td>2     </td><td>26    </td><td>-1    </td><td>2     </td><td> 0    </td><td> 0    </td><td>...   </td><td> 3272 </td><td> 3455 </td><td> 3261 </td><td>   0  </td><td> 1000 </td><td> 1000 </td><td>1000  </td><td>   0  </td><td>2000  </td><td>1     </td></tr>\n",
       "\t<tr><td>3     </td><td> 90000</td><td>2     </td><td>2     </td><td>2     </td><td>34    </td><td> 0    </td><td>0     </td><td> 0    </td><td> 0    </td><td>...   </td><td>14331 </td><td>14948 </td><td>15549 </td><td>1518  </td><td> 1500 </td><td> 1000 </td><td>1000  </td><td>1000  </td><td>5000  </td><td>0     </td></tr>\n",
       "\t<tr><td>4     </td><td> 50000</td><td>2     </td><td>2     </td><td>1     </td><td>37    </td><td> 0    </td><td>0     </td><td> 0    </td><td> 0    </td><td>...   </td><td>28314 </td><td>28959 </td><td>29547 </td><td>2000  </td><td> 2019 </td><td> 1200 </td><td>1100  </td><td>1069  </td><td>1000  </td><td>0     </td></tr>\n",
       "\t<tr><td>5     </td><td> 50000</td><td>1     </td><td>2     </td><td>1     </td><td>57    </td><td>-1    </td><td>0     </td><td>-1    </td><td> 0    </td><td>...   </td><td>20940 </td><td>19146 </td><td>19131 </td><td>2000  </td><td>36681 </td><td>10000 </td><td>9000  </td><td> 689  </td><td> 679  </td><td>0     </td></tr>\n",
       "\t<tr><td>6     </td><td> 50000</td><td>1     </td><td>1     </td><td>2     </td><td>37    </td><td> 0    </td><td>0     </td><td> 0    </td><td> 0    </td><td>...   </td><td>19394 </td><td>19619 </td><td>20024 </td><td>2500  </td><td> 1815 </td><td>  657 </td><td>1000  </td><td>1000  </td><td> 800  </td><td>0     </td></tr>\n",
       "</tbody>\n",
       "</table>\n"
      ],
      "text/latex": [
       "\\begin{tabular}{r|lllllllllllllllllllllllll}\n",
       " X & X1 & X2 & X3 & X4 & X5 & X6 & X7 & X8 & X9 & ... & X15 & X16 & X17 & X18 & X19 & X20 & X21 & X22 & X23 & Y\\\\\n",
       "\\hline\n",
       "\t 1      &  20000 & 2      & 2      & 1      & 24     &  2     & 2      & -1     & -1     & ...    &     0  &     0  &     0  &    0   &   689  &     0  &    0   &    0   &    0   & 1     \\\\\n",
       "\t 2      & 120000 & 2      & 2      & 2      & 26     & -1     & 2      &  0     &  0     & ...    &  3272  &  3455  &  3261  &    0   &  1000  &  1000  & 1000   &    0   & 2000   & 1     \\\\\n",
       "\t 3      &  90000 & 2      & 2      & 2      & 34     &  0     & 0      &  0     &  0     & ...    & 14331  & 14948  & 15549  & 1518   &  1500  &  1000  & 1000   & 1000   & 5000   & 0     \\\\\n",
       "\t 4      &  50000 & 2      & 2      & 1      & 37     &  0     & 0      &  0     &  0     & ...    & 28314  & 28959  & 29547  & 2000   &  2019  &  1200  & 1100   & 1069   & 1000   & 0     \\\\\n",
       "\t 5      &  50000 & 1      & 2      & 1      & 57     & -1     & 0      & -1     &  0     & ...    & 20940  & 19146  & 19131  & 2000   & 36681  & 10000  & 9000   &  689   &  679   & 0     \\\\\n",
       "\t 6      &  50000 & 1      & 1      & 2      & 37     &  0     & 0      &  0     &  0     & ...    & 19394  & 19619  & 20024  & 2500   &  1815  &   657  & 1000   & 1000   &  800   & 0     \\\\\n",
       "\\end{tabular}\n"
      ],
      "text/markdown": [
       "\n",
       "| X | X1 | X2 | X3 | X4 | X5 | X6 | X7 | X8 | X9 | ... | X15 | X16 | X17 | X18 | X19 | X20 | X21 | X22 | X23 | Y |\n",
       "|---|---|---|---|---|---|---|---|---|---|---|---|---|---|---|---|---|---|---|---|---|\n",
       "| 1      |  20000 | 2      | 2      | 1      | 24     |  2     | 2      | -1     | -1     | ...    |     0  |     0  |     0  |    0   |   689  |     0  |    0   |    0   |    0   | 1      |\n",
       "| 2      | 120000 | 2      | 2      | 2      | 26     | -1     | 2      |  0     |  0     | ...    |  3272  |  3455  |  3261  |    0   |  1000  |  1000  | 1000   |    0   | 2000   | 1      |\n",
       "| 3      |  90000 | 2      | 2      | 2      | 34     |  0     | 0      |  0     |  0     | ...    | 14331  | 14948  | 15549  | 1518   |  1500  |  1000  | 1000   | 1000   | 5000   | 0      |\n",
       "| 4      |  50000 | 2      | 2      | 1      | 37     |  0     | 0      |  0     |  0     | ...    | 28314  | 28959  | 29547  | 2000   |  2019  |  1200  | 1100   | 1069   | 1000   | 0      |\n",
       "| 5      |  50000 | 1      | 2      | 1      | 57     | -1     | 0      | -1     |  0     | ...    | 20940  | 19146  | 19131  | 2000   | 36681  | 10000  | 9000   |  689   |  679   | 0      |\n",
       "| 6      |  50000 | 1      | 1      | 2      | 37     |  0     | 0      |  0     |  0     | ...    | 19394  | 19619  | 20024  | 2500   |  1815  |   657  | 1000   | 1000   |  800   | 0      |\n",
       "\n"
      ],
      "text/plain": [
       "  X X1     X2 X3 X4 X5 X6 X7 X8 X9 ... X15   X16   X17   X18  X19   X20   X21 \n",
       "1 1  20000 2  2  1  24  2 2  -1 -1 ...     0     0     0    0   689     0    0\n",
       "2 2 120000 2  2  2  26 -1 2   0  0 ...  3272  3455  3261    0  1000  1000 1000\n",
       "3 3  90000 2  2  2  34  0 0   0  0 ... 14331 14948 15549 1518  1500  1000 1000\n",
       "4 4  50000 2  2  1  37  0 0   0  0 ... 28314 28959 29547 2000  2019  1200 1100\n",
       "5 5  50000 1  2  1  57 -1 0  -1  0 ... 20940 19146 19131 2000 36681 10000 9000\n",
       "6 6  50000 1  1  2  37  0 0   0  0 ... 19394 19619 20024 2500  1815   657 1000\n",
       "  X22  X23  Y\n",
       "1    0    0 1\n",
       "2    0 2000 1\n",
       "3 1000 5000 0\n",
       "4 1069 1000 0\n",
       "5  689  679 0\n",
       "6 1000  800 0"
      ]
     },
     "metadata": {},
     "output_type": "display_data"
    }
   ],
   "source": [
    "# check data \n",
    "head(defaultCards)"
   ]
  },
  {
   "cell_type": "code",
   "execution_count": 5,
   "metadata": {},
   "outputs": [
    {
     "name": "stdout",
     "output_type": "stream",
     "text": [
      "'data.frame':\t30000 obs. of  25 variables:\n",
      " $ X  : int  1 2 3 4 5 6 7 8 9 10 ...\n",
      " $ X1 : int  20000 120000 90000 50000 50000 50000 500000 100000 140000 20000 ...\n",
      " $ X2 : int  2 2 2 2 1 1 1 2 2 1 ...\n",
      " $ X3 : int  2 2 2 2 2 1 1 2 3 3 ...\n",
      " $ X4 : int  1 2 2 1 1 2 2 2 1 2 ...\n",
      " $ X5 : int  24 26 34 37 57 37 29 23 28 35 ...\n",
      " $ X6 : int  2 -1 0 0 -1 0 0 0 0 -2 ...\n",
      " $ X7 : int  2 2 0 0 0 0 0 -1 0 -2 ...\n",
      " $ X8 : int  -1 0 0 0 -1 0 0 -1 2 -2 ...\n",
      " $ X9 : int  -1 0 0 0 0 0 0 0 0 -2 ...\n",
      " $ X10: int  -2 0 0 0 0 0 0 0 0 -1 ...\n",
      " $ X11: int  -2 2 0 0 0 0 0 -1 0 -1 ...\n",
      " $ X12: int  3913 2682 29239 46990 8617 64400 367965 11876 11285 0 ...\n",
      " $ X13: int  3102 1725 14027 48233 5670 57069 412023 380 14096 0 ...\n",
      " $ X14: int  689 2682 13559 49291 35835 57608 445007 601 12108 0 ...\n",
      " $ X15: int  0 3272 14331 28314 20940 19394 542653 221 12211 0 ...\n",
      " $ X16: int  0 3455 14948 28959 19146 19619 483003 -159 11793 13007 ...\n",
      " $ X17: int  0 3261 15549 29547 19131 20024 473944 567 3719 13912 ...\n",
      " $ X18: int  0 0 1518 2000 2000 2500 55000 380 3329 0 ...\n",
      " $ X19: int  689 1000 1500 2019 36681 1815 40000 601 0 0 ...\n",
      " $ X20: int  0 1000 1000 1200 10000 657 38000 0 432 0 ...\n",
      " $ X21: int  0 1000 1000 1100 9000 1000 20239 581 1000 13007 ...\n",
      " $ X22: int  0 0 1000 1069 689 1000 13750 1687 1000 1122 ...\n",
      " $ X23: int  0 2000 5000 1000 679 800 13770 1542 1000 0 ...\n",
      " $ Y  : int  1 1 0 0 0 0 0 0 0 0 ...\n"
     ]
    }
   ],
   "source": [
    "# check type \n",
    "str(defaultCards)"
   ]
  },
  {
   "cell_type": "code",
   "execution_count": 6,
   "metadata": {},
   "outputs": [
    {
     "data": {
      "text/plain": [
       "\n",
       "    0     1 \n",
       "23364  6636 "
      ]
     },
     "metadata": {},
     "output_type": "display_data"
    }
   ],
   "source": [
    "# check distribution of target variable Y\n",
    "table(defaultCards$Y)"
   ]
  },
  {
   "cell_type": "code",
   "execution_count": 7,
   "metadata": {},
   "outputs": [],
   "source": [
    "# One hot encoding the target variable\n",
    "# remove ID variable and convert target variable to 2 variables yes and no\n",
    "DCC2 <- cbind(defaultCards[, 2:(ncol(defaultCards)-1)], class.ind(as.factor(defaultCards$Y)))\n",
    "names(DCC2) <- c(names(DCC2)[1:(ncol(DCC2)-2)], \"No\", \"Yes\")"
   ]
  },
  {
   "cell_type": "code",
   "execution_count": 8,
   "metadata": {},
   "outputs": [
    {
     "name": "stdout",
     "output_type": "stream",
     "text": [
      "'data.frame':\t30000 obs. of  25 variables:\n",
      " $ X1 : int  20000 120000 90000 50000 50000 50000 500000 100000 140000 20000 ...\n",
      " $ X2 : int  2 2 2 2 1 1 1 2 2 1 ...\n",
      " $ X3 : int  2 2 2 2 2 1 1 2 3 3 ...\n",
      " $ X4 : int  1 2 2 1 1 2 2 2 1 2 ...\n",
      " $ X5 : int  24 26 34 37 57 37 29 23 28 35 ...\n",
      " $ X6 : int  2 -1 0 0 -1 0 0 0 0 -2 ...\n",
      " $ X7 : int  2 2 0 0 0 0 0 -1 0 -2 ...\n",
      " $ X8 : int  -1 0 0 0 -1 0 0 -1 2 -2 ...\n",
      " $ X9 : int  -1 0 0 0 0 0 0 0 0 -2 ...\n",
      " $ X10: int  -2 0 0 0 0 0 0 0 0 -1 ...\n",
      " $ X11: int  -2 2 0 0 0 0 0 -1 0 -1 ...\n",
      " $ X12: int  3913 2682 29239 46990 8617 64400 367965 11876 11285 0 ...\n",
      " $ X13: int  3102 1725 14027 48233 5670 57069 412023 380 14096 0 ...\n",
      " $ X14: int  689 2682 13559 49291 35835 57608 445007 601 12108 0 ...\n",
      " $ X15: int  0 3272 14331 28314 20940 19394 542653 221 12211 0 ...\n",
      " $ X16: int  0 3455 14948 28959 19146 19619 483003 -159 11793 13007 ...\n",
      " $ X17: int  0 3261 15549 29547 19131 20024 473944 567 3719 13912 ...\n",
      " $ X18: int  0 0 1518 2000 2000 2500 55000 380 3329 0 ...\n",
      " $ X19: int  689 1000 1500 2019 36681 1815 40000 601 0 0 ...\n",
      " $ X20: int  0 1000 1000 1200 10000 657 38000 0 432 0 ...\n",
      " $ X21: int  0 1000 1000 1100 9000 1000 20239 581 1000 13007 ...\n",
      " $ X22: int  0 0 1000 1069 689 1000 13750 1687 1000 1122 ...\n",
      " $ X23: int  0 2000 5000 1000 679 800 13770 1542 1000 0 ...\n",
      " $ No : num  0 0 1 1 1 1 1 1 1 1 ...\n",
      " $ Yes: num  1 1 0 0 0 0 0 0 0 0 ...\n"
     ]
    }
   ],
   "source": [
    "str(DCC2)"
   ]
  },
  {
   "cell_type": "code",
   "execution_count": 24,
   "metadata": {},
   "outputs": [],
   "source": [
    "# Take 10%\n",
    "set.seed(1)\n",
    "DCC2 <- DCC2[sample(1:nrow(DCC2), round(nrow(DCC2)*0.05)), ]"
   ]
  },
  {
   "cell_type": "code",
   "execution_count": 25,
   "metadata": {},
   "outputs": [
    {
     "data": {
      "text/html": [
       "<ol class=list-inline>\n",
       "\t<li>1500</li>\n",
       "\t<li>25</li>\n",
       "</ol>\n"
      ],
      "text/latex": [
       "\\begin{enumerate*}\n",
       "\\item 1500\n",
       "\\item 25\n",
       "\\end{enumerate*}\n"
      ],
      "text/markdown": [
       "1. 1500\n",
       "2. 25\n",
       "\n",
       "\n"
      ],
      "text/plain": [
       "[1] 1500   25"
      ]
     },
     "metadata": {},
     "output_type": "display_data"
    }
   ],
   "source": [
    "# 1500 rows and 25 variables\n",
    "dim(DCC2)"
   ]
  },
  {
   "cell_type": "code",
   "execution_count": 41,
   "metadata": {},
   "outputs": [],
   "source": [
    "# Split the data into train/test - 80/20 split\n",
    "set.seed(1)\n",
    "train_idx <- sample(1:nrow(DCC2), round(nrow(DCC2)*0.8))\n",
    "train_df2 <- DCC2[train_idx, ]\n",
    "test_df2 <- DCC2[-train_idx, ]"
   ]
  },
  {
   "cell_type": "code",
   "execution_count": 43,
   "metadata": {
    "scrolled": true
   },
   "outputs": [
    {
     "name": "stdout",
     "output_type": "stream",
     "text": [
      "'data.frame':\t1200 obs. of  25 variables:\n",
      " $ X1 : num  80000 70000 50000 490000 100000 150000 80000 340000 20000 120000 ...\n",
      " $ X2 : num  2 2 1 1 2 2 2 2 1 1 ...\n",
      " $ X3 : num  3 2 2 1 3 1 1 2 2 2 ...\n",
      " $ X4 : num  1 2 1 1 1 2 2 1 1 2 ...\n",
      " $ X5 : num  50 23 37 57 36 28 29 42 30 27 ...\n",
      " $ X6 : num  -1 0 0 0 2 2 1 0 1 0 ...\n",
      " $ X7 : num  0 0 0 0 2 2 -1 0 2 0 ...\n",
      " $ X8 : num  0 0 0 0 2 2 -1 0 2 0 ...\n",
      " $ X9 : num  2 0 0 0 2 0 -1 0 2 0 ...\n",
      " $ X10: num  2 0 0 0 2 0 -1 0 2 0 ...\n",
      " $ X11: num  2 0 0 0 2 0 -1 0 2 0 ...\n",
      " $ X12: num  67328 54428 44270 354782 92675 ...\n",
      " $ X13: num  69356 25085 42398 348786 92857 ...\n",
      " $ X14: num  73445 25282 44346 349958 80748 ...\n",
      " $ X15: num  74645 21858 44098 340602 80708 ...\n",
      " $ X16: num  73330 19171 48698 303047 75366 ...\n",
      " $ X17: num  78032 8443 26955 331606 76590 ...\n",
      " $ X18: num  3113 2002 5000 17035 3445 ...\n",
      " $ X19: num  5850 1819 3000 20059 709 ...\n",
      " $ X20: num  3000 509 5000 12943 6077 ...\n",
      " $ X21: num  0 539 5000 15049 2805 ...\n",
      " $ X22: num  6103 2000 5000 50017 2906 ...\n",
      " $ X23: num  0 1000 6000 20021 0 ...\n",
      " $ No : num  0 1 1 1 1 0 1 1 0 0 ...\n",
      " $ Yes: num  1 0 0 0 0 1 0 0 1 1 ...\n"
     ]
    }
   ],
   "source": [
    "train_df2[, 1:23] <- apply(train_df2[, 1:23],2, function(x) as.numeric(as.character(x)))\n",
    "\n",
    "str(train_df2)"
   ]
  },
  {
   "cell_type": "code",
   "execution_count": 44,
   "metadata": {
    "scrolled": true
   },
   "outputs": [],
   "source": [
    "#create the formula\n",
    "\n",
    "NN_formula <- as.formula(paste0('No + Yes ~ ', paste(names(DCC2)[1:(ncol(DCC2)-2)], collapse=' + ')))\n",
    "NN_formula <- as.formula('No + Yes ~ X1 + X2 + X3 + X4 + X5 + X6 + X7 + X8 + X9 + X10 + \n",
    "    X11 + X12 + X13 + X14 + X15 + X16 + X17 + X18 + X19 + X20 + \n",
    "    X21 + X22 + X23')"
   ]
  },
  {
   "cell_type": "code",
   "execution_count": 70,
   "metadata": {
    "scrolled": true
   },
   "outputs": [
    {
     "name": "stderr",
     "output_type": "stream",
     "text": [
      "hidden: 30    thresh: 0.2    rep: 1/2    steps:    1000\tmin thresh: 149.113096749343\n",
      "                                                   2000\tmin thresh: 115.595194293678\n",
      "                                                   3000\tmin thresh: 107.433850370399\n",
      "                                                   4000\tmin thresh: 107.433850370399\n",
      "                                                   5000\tmin thresh: 107.433850370399\n",
      "                                                   6000\tmin thresh: 107.433850370399\n",
      "                                                   7000\tmin thresh: 107.433850370399\n",
      "                                                   8000\tmin thresh: 107.433850370399\n",
      "                                                   9000\tmin thresh: 107.433850370399\n",
      "                                                  10000\tmin thresh: 107.433850370399\n",
      "                                                  11000\tmin thresh: 107.433850370399\n",
      "                                                  12000\tmin thresh: 107.433850370399\n",
      "                                                  13000\tmin thresh: 88.0271836717157\n",
      "                                                  14000\tmin thresh: 55.2344662531123\n",
      "                                                  15000\tmin thresh: 55.2344662531123\n",
      "                                                  16000\tmin thresh: 55.2344662531123\n",
      "                                                  17000\tmin thresh: 55.2344662531123\n",
      "                                                  18000\tmin thresh: 55.2344662531123\n",
      "                                                  19000\tmin thresh: 55.2344662531123\n",
      "                                                  20000\tmin thresh: 55.2344662531123\n",
      "                                                  21000\tmin thresh: 55.2344662531123\n",
      "                                                  22000\tmin thresh: 55.2344662531123\n",
      "                                                  23000\tmin thresh: 55.2344662531123\n",
      "                                                  24000\tmin thresh: 55.2344662531123\n",
      "                                                  25000\tmin thresh: 55.2344662531123\n",
      "                                                  26000\tmin thresh: 55.2344662531123\n",
      "                                                  27000\tmin thresh: 55.2344662531123\n",
      "                                                  28000\tmin thresh: 55.2344662531123\n",
      "                                                  29000\tmin thresh: 55.2344662531123\n",
      "                                                  30000\tmin thresh: 55.2344662531123\n",
      "                                                  31000\tmin thresh: 55.2344662531123\n",
      "                                                  32000\tmin thresh: 55.2344662531123\n",
      "                                                  33000\tmin thresh: 55.2344662531123\n",
      "                                                  34000\tmin thresh: 55.2344662531123\n",
      "                                                  35000\tmin thresh: 55.2344662531123\n",
      "                                                  36000\tmin thresh: 55.2344662531123\n",
      "                                                  37000\tmin thresh: 55.2344662531123\n",
      "                                                  38000\tmin thresh: 55.2344662531123\n",
      "                                                  39000\tmin thresh: 55.2344662531123\n",
      "                                                  40000\tmin thresh: 55.2344662531123\n",
      "                                                  41000\tmin thresh: 55.2344662531123\n",
      "                                                  42000\tmin thresh: 55.2344662531123\n",
      "                                                  43000\tmin thresh: 55.2344662531123\n",
      "                                                  44000\tmin thresh: 55.2344662531123\n",
      "                                                  45000\tmin thresh: 55.2344662531123\n",
      "                                                  46000\tmin thresh: 55.2344662531123\n",
      "                                                  47000\tmin thresh: 55.2344662531123\n",
      "                                                  48000\tmin thresh: 55.2344662531123\n",
      "                                                  49000\tmin thresh: 55.2344662531123\n",
      "                                                  50000\tmin thresh: 55.2344662531123\n",
      "                                                  51000\tmin thresh: 55.2344662531123\n",
      "                                                  52000\tmin thresh: 55.2344662531123\n",
      "                                                  53000\tmin thresh: 55.2344662531123\n",
      "                                                  54000\tmin thresh: 55.2344662531123\n",
      "                                                  55000\tmin thresh: 55.2344662531123\n",
      "                                                  56000\tmin thresh: 55.2344662531123\n",
      "                                                  57000\tmin thresh: 55.2344662531123\n",
      "                                                  58000\tmin thresh: 55.2344662531123\n",
      "                                                  59000\tmin thresh: 55.2344662531123\n",
      "                                                  60000\tmin thresh: 55.2344662531123\n",
      "                                                  61000\tmin thresh: 55.2344662531123\n",
      "                                                  62000\tmin thresh: 55.2344662531123\n",
      "                                                  63000\tmin thresh: 55.2344662531123\n",
      "                                                  64000\tmin thresh: 55.2344662531123\n",
      "                                                  65000\tmin thresh: 55.2344662531123\n",
      "                                                  66000\tmin thresh: 55.2344662531123\n",
      "                                                  67000\tmin thresh: 55.2344662531123\n",
      "                                                  68000\tmin thresh: 55.2344662531123\n",
      "                                                  69000\tmin thresh: 55.2344662531123\n",
      "                                                  70000\tmin thresh: 55.2344662531123\n",
      "                                                  71000\tmin thresh: 55.2344662531123\n",
      "                                                  72000\tmin thresh: 55.2344662531123\n",
      "                                                  73000\tmin thresh: 55.2344662531123\n",
      "                                                  74000\tmin thresh: 55.2344662531123\n",
      "                                                  75000\tmin thresh: 55.2344662531123\n",
      "                                                  76000\tmin thresh: 55.2344662531123\n",
      "                                                  77000\tmin thresh: 55.2344662531123\n",
      "                                                  78000\tmin thresh: 55.2344662531123\n",
      "                                                  79000\tmin thresh: 55.2344662531123\n",
      "                                                  80000\tmin thresh: 55.2344662531123\n",
      "                                                  81000\tmin thresh: 55.2344662531123\n",
      "                                                  82000\tmin thresh: 55.2344662531123\n",
      "                                                  83000\tmin thresh: 55.2344662531123\n",
      "                                                  84000\tmin thresh: 55.2344662531123\n",
      "                                                  85000\tmin thresh: 55.2344662531123\n",
      "                                                  86000\tmin thresh: 55.2344662531123\n",
      "                                                  87000\tmin thresh: 55.2344662531123\n",
      "                                                  88000\tmin thresh: 55.2344662531123\n",
      "                                                  89000\tmin thresh: 55.2344662531123\n",
      "                                                  90000\tmin thresh: 55.2344662531123\n",
      "                                                  91000\tmin thresh: 55.2344662531123\n",
      "                                                  92000\tmin thresh: 55.2344662531123\n",
      "                                                  93000\tmin thresh: 55.2344662531123\n",
      "                                                  94000\tmin thresh: 55.2344662531123\n",
      "                                                  95000\tmin thresh: 55.2344662531123\n",
      "                                                  96000\tmin thresh: 55.2344662531123\n",
      "                                                  97000\tmin thresh: 55.2344662531123\n",
      "                                                  98000\tmin thresh: 55.2344662531123\n",
      "                                                  99000\tmin thresh: 55.2344662531123\n",
      "                                                stepmax\tmin thresh: 55.2344662531123\n",
      "hidden: 30    thresh: 0.2    rep: 2/2    steps:    1000\tmin thresh: 150.548731805954\n",
      "                                                   2000\tmin thresh: 150.312515311843\n",
      "                                                   3000\tmin thresh: 150.312515311843\n",
      "                                                   4000\tmin thresh: 150.312515311843\n",
      "                                                   5000\tmin thresh: 142.137656118712\n",
      "                                                   6000\tmin thresh: 142.137656118712\n",
      "                                                   7000\tmin thresh: 142.137656118712\n",
      "                                                   8000\tmin thresh: 126.496152683756\n",
      "                                                   9000\tmin thresh: 126.496152683756\n",
      "                                                  10000\tmin thresh: 126.496152683756\n",
      "                                                  11000\tmin thresh: 126.496152683756\n",
      "                                                  12000\tmin thresh: 97.7485658687485\n",
      "                                                  13000\tmin thresh: 97.7485658687485\n",
      "                                                  14000\tmin thresh: 97.7485658687485\n",
      "                                                  15000\tmin thresh: 97.7485658687485\n",
      "                                                  16000\tmin thresh: 97.7485658687485\n",
      "                                                  17000\tmin thresh: 97.7485658687485\n",
      "                                                  18000\tmin thresh: 97.7485658687485\n",
      "                                                  19000\tmin thresh: 97.7485658687485\n",
      "                                                  20000\tmin thresh: 97.7485658687485\n",
      "                                                  21000\tmin thresh: 97.7485658687485\n",
      "                                                  22000\tmin thresh: 97.7485658687485\n",
      "                                                  23000\tmin thresh: 97.7485658687485\n",
      "                                                  24000\tmin thresh: 97.7485658687485\n",
      "                                                  25000\tmin thresh: 97.7485658687485\n",
      "                                                  26000\tmin thresh: 97.7485658687485\n",
      "                                                  27000\tmin thresh: 97.7485658687485\n",
      "                                                  28000\tmin thresh: 97.7485658687485\n",
      "                                                  29000\tmin thresh: 97.7485658687485\n",
      "                                                  30000\tmin thresh: 97.7485658687485\n",
      "                                                  31000\tmin thresh: 97.7485658687485\n",
      "                                                  32000\tmin thresh: 97.7485658687485\n",
      "                                                  33000\tmin thresh: 97.7485658687485\n",
      "                                                  34000\tmin thresh: 97.7485658687485\n",
      "                                                  35000\tmin thresh: 97.7485658687485\n",
      "                                                  36000\tmin thresh: 97.7485658687485\n",
      "                                                  37000\tmin thresh: 97.7485658687485\n",
      "                                                  38000\tmin thresh: 97.7485658687485\n",
      "                                                  39000\tmin thresh: 97.7485658687485\n",
      "                                                  40000\tmin thresh: 97.7485658687485\n",
      "                                                  41000\tmin thresh: 97.7485658687485\n",
      "                                                  42000\tmin thresh: 97.7485658687485\n",
      "                                                  43000\tmin thresh: 97.7485658687485\n",
      "                                                  44000\tmin thresh: 97.7485658687485\n",
      "                                                  45000\tmin thresh: 97.7485658687485\n",
      "                                                  46000\tmin thresh: 97.7485658687485\n",
      "                                                  47000\tmin thresh: 97.7485658687485\n",
      "                                                  48000\tmin thresh: 97.7485658687485\n",
      "                                                  49000\tmin thresh: 97.7485658687485\n",
      "                                                  50000\tmin thresh: 97.7485658687485\n",
      "                                                  51000\tmin thresh: 97.7485658687485\n",
      "                                                  52000\tmin thresh: 97.7485658687485\n",
      "                                                  53000\tmin thresh: 97.7485658687485\n",
      "                                                  54000\tmin thresh: 97.7485658687485\n",
      "                                                  55000\tmin thresh: 97.7485658687485\n",
      "                                                  56000\tmin thresh: 97.7485658687485\n",
      "                                                  57000\tmin thresh: 97.7485658687485\n",
      "                                                  58000\tmin thresh: 97.7485658687485\n",
      "                                                  59000\tmin thresh: 97.7485658687485\n",
      "                                                  60000\tmin thresh: 97.7485658687485\n",
      "                                                  61000\tmin thresh: 97.7485658687485\n",
      "                                                  62000\tmin thresh: 97.7485658687485\n",
      "                                                  63000\tmin thresh: 97.7485658687485\n",
      "                                                  64000\tmin thresh: 97.7485658687485\n",
      "                                                  65000\tmin thresh: 97.7485658687485\n",
      "                                                  66000\tmin thresh: 97.7485658687485\n",
      "                                                  67000\tmin thresh: 97.7485658687485\n",
      "                                                  68000\tmin thresh: 97.7485658687485\n",
      "                                                  69000\tmin thresh: 97.7485658687485\n",
      "                                                  70000\tmin thresh: 97.7485658687485\n",
      "                                                  71000\tmin thresh: 97.7485658687485\n",
      "                                                  72000\tmin thresh: 97.7485658687485\n",
      "                                                  73000\tmin thresh: 97.7485658687485\n",
      "                                                  74000\tmin thresh: 91.7719115657743\n",
      "                                                  75000\tmin thresh: 91.7719115657743\n",
      "                                                  76000\tmin thresh: 91.7719115657743\n",
      "                                                  77000\tmin thresh: 91.7719115657743\n",
      "                                                  78000\tmin thresh: 91.7719115657743\n",
      "                                                  79000\tmin thresh: 91.7719115657743\n",
      "                                                  80000\tmin thresh: 91.7719115657743\n",
      "                                                  81000\tmin thresh: 91.7719115657743\n",
      "                                                  82000\tmin thresh: 91.7719115657743\n",
      "                                                  83000\tmin thresh: 91.7719115657743\n",
      "                                                  84000\tmin thresh: 91.7719115657743\n",
      "                                                  85000\tmin thresh: 91.7719115657743\n",
      "                                                  86000\tmin thresh: 91.7719115657743\n",
      "                                                  87000\tmin thresh: 91.7719115657743\n",
      "                                                  88000\tmin thresh: 91.7719115657743\n",
      "                                                  89000\tmin thresh: 91.7719115657743\n",
      "                                                  90000\tmin thresh: 91.7719115657743\n",
      "                                                  91000\tmin thresh: 91.7719115657743\n",
      "                                                  92000\tmin thresh: 91.7719115657743\n",
      "                                                  93000\tmin thresh: 91.7719115657743\n",
      "                                                  94000\tmin thresh: 91.7719115657743\n",
      "                                                  95000\tmin thresh: 91.7719115657743\n",
      "                                                  96000\tmin thresh: 91.7719115657743\n",
      "                                                  97000\tmin thresh: 91.7719115657743\n",
      "                                                  98000\tmin thresh: 91.7719115657743\n",
      "                                                  99000\tmin thresh: 91.7719115657743\n",
      "                                                stepmax\tmin thresh: 91.7719115657743\n",
      "Warning message:\n",
      "\"Algorithm did not converge in 2 of 2 repetition(s) within the stepmax.\""
     ]
    }
   ],
   "source": [
    "# Train the Neural Network model\n",
    "NN_train <- neuralnet(NN_formula,\n",
    "                     train_df2,\n",
    "                     hidden=c(30),        # Size of the hidden layers\n",
    "                     threshold=0.2,         # tried different thresholds for the model to be able to converge, 0.01, 0.1, 0.2\n",
    "                     #stepmax=30000,        # Maximum training step\n",
    "                     rep=1,                 # Number of training repeat\n",
    "                     lifesign='full',       # Print during train\n",
    "                     algorithm='backprop',  # Algorithm to calculate the network\n",
    "                     learningrate=0.01,     # Learning rate\n",
    "                     err.fct='ce',          # Error function, cross-entropy\n",
    "                     act.fct=\"logistic\",    # Function use to calculate the result\n",
    "                     linear.output=F\n",
    ")"
   ]
  },
  {
   "cell_type": "code",
   "execution_count": 55,
   "metadata": {},
   "outputs": [
    {
     "ename": "ERROR",
     "evalue": "Error in cbind(1, pred) %*% weights[[num_hidden_layers + 1]]: requires numeric/complex matrix/vector arguments\n",
     "output_type": "error",
     "traceback": [
      "Error in cbind(1, pred) %*% weights[[num_hidden_layers + 1]]: requires numeric/complex matrix/vector arguments\nTraceback:\n",
      "1. predict(NN_train, train_df2)",
      "2. predict.nn(NN_train, train_df2)"
     ]
    }
   ],
   "source": [
    "# Make prediction and evaluation on train set\n",
    "train_pred <- predict(NN_train, DCC2[train_idx, ])\n",
    "train_pred <- apply(train_pred, 1, which.max)\n",
    "\n",
    "for (i in 1:length(train_pred)) {\n",
    "    if (train_pred[i] == 1) train_pred[i] <- 'no'\n",
    "    if (train_pred[i] == 2) train_pred[i] <- 'yes'\n",
    "}\n",
    "\n",
    "table(defaultCards[train_idx, ]$Y, train_pred)"
   ]
  },
  {
   "cell_type": "code",
   "execution_count": 47,
   "metadata": {},
   "outputs": [
    {
     "ename": "ERROR",
     "evalue": "Error in cbind(1, pred) %*% weights[[num_hidden_layers + 1]]: requires numeric/complex matrix/vector arguments\n",
     "output_type": "error",
     "traceback": [
      "Error in cbind(1, pred) %*% weights[[num_hidden_layers + 1]]: requires numeric/complex matrix/vector arguments\nTraceback:\n",
      "1. predict(NN_train, train_df2)",
      "2. predict.nn(NN_train, train_df2)"
     ]
    }
   ],
   "source": [
    "# Make prediction and evaluation on train\n",
    "y_train_pred <- predict(NN_train, train_df2)\n",
    "#mean((max.col(y_train_pred)-1) == train$Y)"
   ]
  },
  {
   "cell_type": "code",
   "execution_count": null,
   "metadata": {},
   "outputs": [],
   "source": [
    "# Make prediction and evaluation on test set\n",
    "test_pred <- predict(NN_train, DCC2[-train_idx, ])\n",
    "test_pred <- apply(test_pred, 1, which.max)\n",
    "\n",
    "for (i in 1:length(test_pred)) {\n",
    "    if (test_pred[i] == 1) test_pred[i] <- 'no'\n",
    "    if (test_pred[i] == 2) test_pred[i] <- 'yes'\n",
    "}\n",
    "\n",
    "table(defaultCards[train_idx, ]$Y, test_pred)"
   ]
  },
  {
   "cell_type": "code",
   "execution_count": null,
   "metadata": {},
   "outputs": [],
   "source": [
    "# Make prediction and evaluation on test\n",
    "y_test_pred <- predict(NN_train, test_df2)\n",
    "mean((max.col(y_test_pred)-1) == defaultCards[-train_idx, ]$Y)"
   ]
  },
  {
   "cell_type": "code",
   "execution_count": null,
   "metadata": {},
   "outputs": [],
   "source": [
    "#Q3"
   ]
  },
  {
   "cell_type": "code",
   "execution_count": 72,
   "metadata": {},
   "outputs": [
    {
     "name": "stderr",
     "output_type": "stream",
     "text": [
      "hidden: 30, 30, 30    thresh: 0.01    rep: 1/1    steps:    1000\tmin thresh: 179.397396981866\n",
      "                                                            2000\tmin thresh: 61.5107562802121\n",
      "                                                            3000\tmin thresh: 54.6799462760857\n",
      "                                                            4000\tmin thresh: 30.1472961270335\n",
      "                                                            5000\tmin thresh: 30.1472961270335\n",
      "                                                            6000\tmin thresh: 30.1472961270335\n",
      "                                                            7000\tmin thresh: 30.1472961270335\n",
      "                                                            8000\tmin thresh: 30.1472961270335\n",
      "                                                            9000\tmin thresh: 15.6599527462638\n",
      "                                                           10000\tmin thresh: 15.6599527462638\n",
      "                                                           11000\tmin thresh: 15.6599527462638\n",
      "                                                           12000\tmin thresh: 15.6599527462638\n",
      "                                                           13000\tmin thresh: 15.6599527462638\n",
      "                                                           14000\tmin thresh: 15.6599527462638\n",
      "                                                           15000\tmin thresh: 15.6599527462638\n",
      "                                                           16000\tmin thresh: 15.6599527462638\n",
      "                                                           17000\tmin thresh: 13.955140904602\n",
      "                                                           18000\tmin thresh: 13.955140904602\n",
      "                                                           19000\tmin thresh: 13.955140904602\n",
      "                                                           20000\tmin thresh: 13.955140904602\n",
      "                                                           21000\tmin thresh: 13.955140904602\n",
      "                                                           22000\tmin thresh: 13.955140904602\n",
      "                                                           23000\tmin thresh: 13.955140904602\n",
      "                                                           24000\tmin thresh: 13.955140904602\n",
      "                                                           25000\tmin thresh: 13.955140904602\n",
      "                                                           26000\tmin thresh: 13.955140904602\n",
      "                                                           27000\tmin thresh: 13.955140904602\n",
      "                                                           28000\tmin thresh: 13.955140904602\n",
      "                                                           29000\tmin thresh: 13.955140904602\n",
      "                                                           30000\tmin thresh: 13.955140904602\n",
      "                                                           31000\tmin thresh: 13.955140904602\n",
      "                                                           32000\tmin thresh: 13.955140904602\n",
      "                                                           33000\tmin thresh: 13.955140904602\n",
      "                                                           34000\tmin thresh: 13.955140904602\n",
      "                                                           35000\tmin thresh: 13.955140904602\n",
      "                                                           36000\tmin thresh: 13.955140904602\n",
      "                                                           37000\tmin thresh: 13.955140904602\n",
      "                                                           38000\tmin thresh: 13.955140904602\n",
      "                                                           39000\tmin thresh: 13.955140904602\n",
      "                                                           40000\tmin thresh: 13.955140904602\n",
      "                                                           41000\tmin thresh: 13.955140904602\n",
      "                                                           42000\tmin thresh: 13.955140904602\n",
      "                                                           43000\tmin thresh: 13.955140904602\n",
      "                                                           44000\tmin thresh: 13.955140904602\n",
      "                                                           45000\tmin thresh: 13.955140904602\n",
      "                                                           46000\tmin thresh: 13.955140904602\n",
      "                                                           47000\tmin thresh: 13.955140904602\n",
      "                                                           48000\tmin thresh: 13.955140904602\n",
      "                                                           49000\tmin thresh: 13.955140904602\n",
      "                                                           50000\tmin thresh: 13.955140904602\n",
      "                                                           51000\tmin thresh: 13.955140904602\n",
      "                                                           52000\tmin thresh: 13.955140904602\n",
      "                                                           53000\tmin thresh: 13.955140904602\n",
      "                                                           54000\tmin thresh: 13.955140904602\n",
      "                                                           55000\tmin thresh: 13.955140904602\n",
      "                                                           56000\tmin thresh: 13.955140904602\n",
      "                                                           57000\tmin thresh: 13.955140904602\n",
      "                                                           58000\tmin thresh: 13.955140904602\n",
      "                                                           59000\tmin thresh: 13.955140904602\n",
      "                                                           60000\tmin thresh: 13.955140904602\n",
      "                                                           61000\tmin thresh: 13.955140904602\n",
      "                                                           62000\tmin thresh: 13.955140904602\n",
      "                                                           63000\tmin thresh: 13.955140904602\n",
      "                                                           64000\tmin thresh: 13.955140904602\n",
      "                                                           65000\tmin thresh: 13.955140904602\n",
      "                                                           66000\tmin thresh: 13.955140904602\n",
      "                                                           67000\tmin thresh: 13.955140904602\n",
      "                                                           68000\tmin thresh: 13.955140904602\n",
      "                                                           69000\tmin thresh: 13.955140904602\n",
      "                                                           70000\tmin thresh: 13.955140904602\n",
      "                                                           71000\tmin thresh: 13.955140904602\n",
      "                                                           72000\tmin thresh: 13.955140904602\n",
      "                                                           73000\tmin thresh: 13.955140904602\n",
      "                                                           74000\tmin thresh: 13.955140904602\n",
      "                                                           75000\tmin thresh: 13.955140904602\n",
      "                                                           76000\tmin thresh: 13.955140904602\n",
      "                                                           77000\tmin thresh: 13.955140904602\n",
      "                                                           78000\tmin thresh: 13.955140904602\n",
      "                                                           79000\tmin thresh: 13.955140904602\n",
      "                                                           80000\tmin thresh: 13.955140904602\n",
      "                                                           81000\tmin thresh: 13.955140904602\n",
      "                                                           82000\tmin thresh: 13.955140904602\n",
      "                                                           83000\tmin thresh: 13.955140904602\n",
      "                                                           84000\tmin thresh: 13.955140904602\n",
      "                                                           85000\tmin thresh: 13.955140904602\n",
      "                                                           86000\tmin thresh: 13.955140904602\n",
      "                                                           87000\tmin thresh: 13.955140904602\n",
      "                                                           88000\tmin thresh: 13.955140904602\n",
      "                                                           89000\tmin thresh: 13.955140904602\n",
      "                                                           90000\tmin thresh: 13.955140904602\n",
      "                                                           91000\tmin thresh: 13.955140904602\n",
      "                                                           92000\tmin thresh: 13.955140904602\n",
      "                                                           93000\tmin thresh: 13.955140904602\n",
      "                                                           94000\tmin thresh: 13.955140904602\n",
      "                                                           95000\tmin thresh: 13.955140904602\n",
      "                                                           96000\tmin thresh: 13.955140904602\n",
      "                                                           97000\tmin thresh: 13.955140904602\n",
      "                                                           98000\tmin thresh: 13.955140904602\n",
      "                                                           99000\tmin thresh: 13.955140904602\n",
      "                                                         stepmax\tmin thresh: 13.955140904602\n",
      "Warning message:\n",
      "\"Algorithm did not converge in 1 of 1 repetition(s) within the stepmax.\""
     ]
    }
   ],
   "source": [
    "# Fit the Neural Network model\n",
    "NN_model2 <- neuralnet(NN_formula,\n",
    "                     train_df2,\n",
    "                     hidden=c(30, 30, 30),        # Size of the hidden layers\n",
    "                     #stepmax=30000,        # Maximum training step\n",
    "                     rep=1,                 # Number of training repeat\n",
    "                     lifesign='full',       # Print during train\n",
    "                     algorithm='backprop',  # Algorithm to calculate the network\n",
    "                     learningrate=0.01,     # Learning rate\n",
    "                     err.fct='ce',          # Error function, cross-entropy\n",
    "                     act.fct=\"logistic\",    # Function use to calculate the result\n",
    "                     linear.output=F\n",
    ")"
   ]
  },
  {
   "cell_type": "code",
   "execution_count": 49,
   "metadata": {},
   "outputs": [
    {
     "ename": "ERROR",
     "evalue": "Error in cbind(1, pred) %*% weights[[num_hidden_layers + 1]]: requires numeric/complex matrix/vector arguments\n",
     "output_type": "error",
     "traceback": [
      "Error in cbind(1, pred) %*% weights[[num_hidden_layers + 1]]: requires numeric/complex matrix/vector arguments\nTraceback:\n",
      "1. predict(NN_model2, DCC2[train_idx, ])",
      "2. predict.nn(NN_model2, DCC2[train_idx, ])"
     ]
    }
   ],
   "source": [
    "# Make prediction and evaluation on train set\n",
    "train_pred <- predict(NN_model2, DCC2[train_idx, ])\n",
    "train_pred <- apply(train_pred, 1, which.max)\n",
    "\n",
    "for (i in 1:length(train_pred)) {\n",
    "    if (train_pred[i] == 1) train_pred[i] <- 'no'\n",
    "    if (train_pred[i] == 2) train_pred[i] <- 'yes'\n",
    "}\n",
    "\n",
    "table(defaultCards[train_idx, ]$Y, train_pred)"
   ]
  },
  {
   "cell_type": "code",
   "execution_count": null,
   "metadata": {},
   "outputs": [],
   "source": [
    "# Make prediction and evaluation on train\n",
    "y_train_pred <- predict(NN_model2, train_df2)\n",
    "mean((max.col(y_train_pred)-1) == defaultCards[train_idx, ]$Y)"
   ]
  },
  {
   "cell_type": "code",
   "execution_count": null,
   "metadata": {},
   "outputs": [],
   "source": [
    "# Make prediction and evaluation on test set\n",
    "test_pred <- predict(NN_model2, DCC2[-train_idx, ])\n",
    "test_pred <- apply(test_pred, 1, which.max)\n",
    "\n",
    "for (i in 1:length(test_pred)) {\n",
    "    if (test_pred[i] == 1) test_pred[i] <- 'no'\n",
    "    if (test_pred[i] == 2) test_pred[i] <- 'yes'\n",
    "}\n",
    "\n",
    "table(defaultCards[train_idx, ]$Y, test_pred)"
   ]
  },
  {
   "cell_type": "code",
   "execution_count": null,
   "metadata": {},
   "outputs": [],
   "source": [
    "# Make prediction and evaluation on test\n",
    "y_test_pred <- predict(NN_model2, test_df2)\n",
    "mean((max.col(y_test_pred)-1) == defaultCards[-train_idx, ]$Y)"
   ]
  },
  {
   "cell_type": "code",
   "execution_count": null,
   "metadata": {},
   "outputs": [],
   "source": [
    "#Q4  Build 5 other classification models and compare with the 2 previous NN models."
   ]
  },
  {
   "cell_type": "code",
   "execution_count": 59,
   "metadata": {},
   "outputs": [
    {
     "data": {
      "text/html": [
       "<ol class=list-inline>\n",
       "\t<li>24000</li>\n",
       "\t<li>25</li>\n",
       "</ol>\n"
      ],
      "text/latex": [
       "\\begin{enumerate*}\n",
       "\\item 24000\n",
       "\\item 25\n",
       "\\end{enumerate*}\n"
      ],
      "text/markdown": [
       "1. 24000\n",
       "2. 25\n",
       "\n",
       "\n"
      ],
      "text/plain": [
       "[1] 24000    25"
      ]
     },
     "metadata": {},
     "output_type": "display_data"
    },
    {
     "data": {
      "text/html": [
       "<ol class=list-inline>\n",
       "\t<li>6000</li>\n",
       "\t<li>25</li>\n",
       "</ol>\n"
      ],
      "text/latex": [
       "\\begin{enumerate*}\n",
       "\\item 6000\n",
       "\\item 25\n",
       "\\end{enumerate*}\n"
      ],
      "text/markdown": [
       "1. 6000\n",
       "2. 25\n",
       "\n",
       "\n"
      ],
      "text/plain": [
       "[1] 6000   25"
      ]
     },
     "metadata": {},
     "output_type": "display_data"
    }
   ],
   "source": [
    "# Train and test\n",
    "set.seed(1)\n",
    "train_idx <- sample(1:nrow(defaultCards), round(nrow(defaultCards)*0.8))\n",
    "train <- defaultCards[train_idx, ]\n",
    "test <- defaultCards[-train_idx, ]\n",
    "\n",
    "\n",
    "# Check the new sample data\n",
    "dim(train)\n",
    "dim(test)"
   ]
  },
  {
   "cell_type": "code",
   "execution_count": 60,
   "metadata": {},
   "outputs": [
    {
     "data": {
      "text/plain": [
       "\n",
       "   0    1 \n",
       "0.78 0.22 "
      ]
     },
     "metadata": {},
     "output_type": "display_data"
    },
    {
     "data": {
      "text/plain": [
       "\n",
       "   0    1 \n",
       "0.77 0.23 "
      ]
     },
     "metadata": {},
     "output_type": "display_data"
    }
   ],
   "source": [
    "# Check the label proportion\n",
    "round(table(train$Y) / nrow(train), 2)\n",
    "round(table(test$Y) / nrow(test), 2)"
   ]
  },
  {
   "cell_type": "code",
   "execution_count": 61,
   "metadata": {},
   "outputs": [],
   "source": [
    "# Define the ML classification task\n",
    "train_task <- mlr::makeClassifTask(id ='dcc_train', data=train, target='Y')\n",
    "test_task <- mlr::makeClassifTask(id='dcc_test', data=test, target='Y')"
   ]
  },
  {
   "cell_type": "code",
   "execution_count": 62,
   "metadata": {},
   "outputs": [
    {
     "data": {
      "text/html": [
       "<strong>acc:</strong> 0.806"
      ],
      "text/latex": [
       "\\textbf{acc:} 0.806"
      ],
      "text/markdown": [
       "**acc:** 0.806"
      ],
      "text/plain": [
       "  acc \n",
       "0.806 "
      ]
     },
     "metadata": {},
     "output_type": "display_data"
    }
   ],
   "source": [
    "# Logistic Regression Lasso (l1)\n",
    "learner <- mlr::makeLearner('classif.LiblineaRL1LogReg')  # Register a machine learning model\n",
    "model <- mlr::train(learner, train_task)\n",
    "pred_test <- predict(model, task=test_task)\n",
    "performance(pred_test, measures=acc)"
   ]
  },
  {
   "cell_type": "code",
   "execution_count": 63,
   "metadata": {},
   "outputs": [
    {
     "data": {
      "text/html": [
       "<strong>acc:</strong> 0.814"
      ],
      "text/latex": [
       "\\textbf{acc:} 0.814"
      ],
      "text/markdown": [
       "**acc:** 0.814"
      ],
      "text/plain": [
       "  acc \n",
       "0.814 "
      ]
     },
     "metadata": {},
     "output_type": "display_data"
    }
   ],
   "source": [
    "# Random Forest\n",
    "learner <- makeLearner('classif.randomForest')\n",
    "model <- mlr::train(learner, train_task)\n",
    "pred_test <- predict(model, task=test_task)\n",
    "performance(pred_test, measures=acc)"
   ]
  },
  {
   "cell_type": "code",
   "execution_count": 64,
   "metadata": {},
   "outputs": [
    {
     "data": {
      "text/html": [
       "<strong>acc:</strong> 0.771833333333333"
      ],
      "text/latex": [
       "\\textbf{acc:} 0.771833333333333"
      ],
      "text/markdown": [
       "**acc:** 0.771833333333333"
      ],
      "text/plain": [
       "      acc \n",
       "0.7718333 "
      ]
     },
     "metadata": {},
     "output_type": "display_data"
    }
   ],
   "source": [
    "# k-Nearest Neighbor (k=50)\n",
    "learner <- makeLearner('classif.knn', k=50)\n",
    "model <- mlr::train(learner, train_task)\n",
    "pred_test <- predict(model, task=test_task)\n",
    "performance(pred_test, measures=acc)"
   ]
  },
  {
   "cell_type": "code",
   "execution_count": 65,
   "metadata": {},
   "outputs": [
    {
     "data": {
      "text/html": [
       "<strong>acc:</strong> 0.814333333333333"
      ],
      "text/latex": [
       "\\textbf{acc:} 0.814333333333333"
      ],
      "text/markdown": [
       "**acc:** 0.814333333333333"
      ],
      "text/plain": [
       "      acc \n",
       "0.8143333 "
      ]
     },
     "metadata": {},
     "output_type": "display_data"
    }
   ],
   "source": [
    "# Adabag Boosting\n",
    "learner <- makeLearner('classif.boosting')\n",
    "model <- mlr::train(learner, train_task)\n",
    "pred_test <- predict(model, task=test_task)\n",
    "performance(pred_test, measures=acc)"
   ]
  },
  {
   "cell_type": "code",
   "execution_count": 66,
   "metadata": {},
   "outputs": [
    {
     "data": {
      "text/html": [
       "<strong>acc:</strong> 0.807666666666667"
      ],
      "text/latex": [
       "\\textbf{acc:} 0.807666666666667"
      ],
      "text/markdown": [
       "**acc:** 0.807666666666667"
      ],
      "text/plain": [
       "      acc \n",
       "0.8076667 "
      ]
     },
     "metadata": {},
     "output_type": "display_data"
    }
   ],
   "source": [
    "# LDA (drop zero-variance features)\n",
    "learner <- makeLearner('classif.lda')\n",
    "model <- mlr::train(learner, filterFeatures(train_task, method='variance', threshold=0.1))\n",
    "#model <- mlr::train(learner, train_task)\n",
    "pred_test <- predict(model, task=test_task)\n",
    "performance(pred_test, measures=acc)"
   ]
  },
  {
   "cell_type": "code",
   "execution_count": null,
   "metadata": {},
   "outputs": [],
   "source": []
  }
 ],
 "metadata": {
  "kernelspec": {
   "display_name": "R",
   "language": "R",
   "name": "ir"
  },
  "language_info": {
   "codemirror_mode": "r",
   "file_extension": ".r",
   "mimetype": "text/x-r-source",
   "name": "R",
   "pygments_lexer": "r",
   "version": "3.6.0"
  }
 },
 "nbformat": 4,
 "nbformat_minor": 2
}
