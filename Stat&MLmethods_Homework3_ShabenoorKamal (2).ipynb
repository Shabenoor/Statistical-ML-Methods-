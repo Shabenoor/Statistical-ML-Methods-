{
 "cells": [
  {
   "cell_type": "code",
   "execution_count": null,
   "metadata": {},
   "outputs": [],
   "source": [
    "#Statistical and ML Methods\n",
    "# Homework Assignment 3\n",
    "# Shabenoor Kamal"
   ]
  },
  {
   "cell_type": "code",
   "execution_count": null,
   "metadata": {},
   "outputs": [],
   "source": [
    "# exercise 3 Chapter 5\n",
    "# part a\n",
    "\n",
    "# k-fold CV approach:\n",
    "# First, a number is selected for k. Then this approrach involves randomly dividing the set of observations into k number of groups of approximately equal size. \n",
    "# The first fold is treated as a validation set, and the model is trained on the remaining k-1 folds. \n",
    "# The mean squared error is computed for the observations in the validation set. This procedure is repeated k times and every time a different group is treated as the validation set.\n",
    "\n",
    "# part b\n",
    "\n",
    "# Validation set approach can give overestimate of the test error rate. k-fold approach gives a more accurate estimate of test error rate. k-fold approach has lower variance than vaidation set approach but has higher bias  \n",
    "# Compared to LOOCV approach, k-fold CV approach has a computational advantage (less computationally expensive). k-fold approach has higher variance than LOOCV but has lower bias "
   ]
  },
  {
   "cell_type": "code",
   "execution_count": 7,
   "metadata": {},
   "outputs": [],
   "source": [
    "# exercise 8 Chapter 5\n",
    "# part a\n",
    "\n",
    "\n",
    "set.seed(1)\n",
    "y <- rnorm(100)  \n",
    "x <- rnorm(100)\n",
    "y <- x - 2*x^2 + rnorm(100)\n",
    "\n",
    "#n = 100 observations\n",
    "\n",
    "#p = 2 features\n",
    "\n",
    "#Y = X - 2X^2 + \\epsilon\n",
    "\n"
   ]
  },
  {
   "cell_type": "code",
   "execution_count": 9,
   "metadata": {},
   "outputs": [
    {
     "data": {
      "image/png": "[encoded data removed]",
      "text/plain": [
       "plot without title"
      ]
     },
     "metadata": {},
     "output_type": "display_data"
    }
   ],
   "source": [
    "# part b - check relationship between x and y\n",
    "\n",
    "plot(x, y)\n",
    "\n",
    "# The relationship between X and Y is quadratic"
   ]
  },
  {
   "cell_type": "code",
   "execution_count": 16,
   "metadata": {},
   "outputs": [
    {
     "name": "stderr",
     "output_type": "stream",
     "text": [
      "Installing package into 'C:/Users/skamal/Documents/R/win-library/3.6'\n",
      "(as 'lib' is unspecified)\n",
      "Warning message:\n",
      "\"package 'ISLR' is in use and will not be installed\"Installing package into 'C:/Users/skamal/Documents/R/win-library/3.6'\n",
      "(as 'lib' is unspecified)\n",
      "Warning message:\n",
      "\"package 'MASS' is in use and will not be installed\""
     ]
    },
    {
     "data": {
      "text/html": [
       "<ol class=list-inline>\n",
       "\t<li>5.89097855988842</li>\n",
       "\t<li>5.88881215196093</li>\n",
       "</ol>\n"
      ],
      "text/latex": [
       "\\begin{enumerate*}\n",
       "\\item 5.89097855988842\n",
       "\\item 5.88881215196093\n",
       "\\end{enumerate*}\n"
      ],
      "text/markdown": [
       "1. 5.89097855988842\n",
       "2. 5.88881215196093\n",
       "\n",
       "\n"
      ],
      "text/plain": [
       "[1] 5.890979 5.888812"
      ]
     },
     "metadata": {},
     "output_type": "display_data"
    },
    {
     "data": {
      "text/html": [
       "<ol class=list-inline>\n",
       "\t<li>1.0865955642745</li>\n",
       "\t<li>1.08632580328877</li>\n",
       "</ol>\n"
      ],
      "text/latex": [
       "\\begin{enumerate*}\n",
       "\\item 1.0865955642745\n",
       "\\item 1.08632580328877\n",
       "\\end{enumerate*}\n"
      ],
      "text/markdown": [
       "1. 1.0865955642745\n",
       "2. 1.08632580328877\n",
       "\n",
       "\n"
      ],
      "text/plain": [
       "[1] 1.086596 1.086326"
      ]
     },
     "metadata": {},
     "output_type": "display_data"
    },
    {
     "data": {
      "text/html": [
       "<ol class=list-inline>\n",
       "\t<li>1.10258509387339</li>\n",
       "\t<li>1.10222658385953</li>\n",
       "</ol>\n"
      ],
      "text/latex": [
       "\\begin{enumerate*}\n",
       "\\item 1.10258509387339\n",
       "\\item 1.10222658385953\n",
       "\\end{enumerate*}\n"
      ],
      "text/markdown": [
       "1. 1.10258509387339\n",
       "2. 1.10222658385953\n",
       "\n",
       "\n"
      ],
      "text/plain": [
       "[1] 1.102585 1.102227"
      ]
     },
     "metadata": {},
     "output_type": "display_data"
    },
    {
     "data": {
      "text/html": [
       "<ol class=list-inline>\n",
       "\t<li>1.11477226814507</li>\n",
       "\t<li>1.11433406148513</li>\n",
       "</ol>\n"
      ],
      "text/latex": [
       "\\begin{enumerate*}\n",
       "\\item 1.11477226814507\n",
       "\\item 1.11433406148513\n",
       "\\end{enumerate*}\n"
      ],
      "text/markdown": [
       "1. 1.11477226814507\n",
       "2. 1.11433406148513\n",
       "\n",
       "\n"
      ],
      "text/plain": [
       "[1] 1.114772 1.114334"
      ]
     },
     "metadata": {},
     "output_type": "display_data"
    }
   ],
   "source": [
    "# part c\n",
    "\n",
    "set.seed(123)\n",
    "install.packages(\"ISLR\")\n",
    "install.packages(\"MASS\")\n",
    "library(boot)\n",
    "# create combined dataframe\n",
    "df_loocv <- data.frame(y, x, x2=x^2, x3=x^3, x4=x^4)\n",
    "\n",
    "# loocv error for model 1\n",
    "model1 <- glm(y ~ x, data=df_loocv)\n",
    "cv.loocverror1 <- cv.glm(df_loocv, model1)\n",
    "cv.loocverror1$delta\n",
    "\n",
    "# loocv error for model 2\n",
    "model2 <- glm(y ~ x + x2, data=df_loocv)\n",
    "cv.loocverror2 <- cv.glm(df_loocv, model2)\n",
    "cv.loocverror2$delta\n",
    "\n",
    "# loocv error for model 3\n",
    "model3 <- glm(y ~ x + x2 + x3, data=df_loocv)\n",
    "cv.loocverror3 <- cv.glm(df_loocv, model3)\n",
    "cv.loocverror3$delta\n",
    "\n",
    "# loocv error for model 4\n",
    "model4 <- glm(y ~ x + x2 + x3 + x4, data=df_loocv)\n",
    "cv.loocverror4 <- cv.glm(df_loocv, model4)\n",
    "cv.loocverror4$delta\n"
   ]
  },
  {
   "cell_type": "code",
   "execution_count": 18,
   "metadata": {},
   "outputs": [
    {
     "data": {
      "text/html": [
       "<ol class=list-inline>\n",
       "\t<li>5.89097855988843</li>\n",
       "\t<li>5.88881215196093</li>\n",
       "</ol>\n"
      ],
      "text/latex": [
       "\\begin{enumerate*}\n",
       "\\item 5.89097855988843\n",
       "\\item 5.88881215196093\n",
       "\\end{enumerate*}\n"
      ],
      "text/markdown": [
       "1. 5.89097855988843\n",
       "2. 5.88881215196093\n",
       "\n",
       "\n"
      ],
      "text/plain": [
       "[1] 5.890979 5.888812"
      ]
     },
     "metadata": {},
     "output_type": "display_data"
    },
    {
     "data": {
      "text/html": [
       "<ol class=list-inline>\n",
       "\t<li>1.0865955642745</li>\n",
       "\t<li>1.08632580328877</li>\n",
       "</ol>\n"
      ],
      "text/latex": [
       "\\begin{enumerate*}\n",
       "\\item 1.0865955642745\n",
       "\\item 1.08632580328877\n",
       "\\end{enumerate*}\n"
      ],
      "text/markdown": [
       "1. 1.0865955642745\n",
       "2. 1.08632580328877\n",
       "\n",
       "\n"
      ],
      "text/plain": [
       "[1] 1.086596 1.086326"
      ]
     },
     "metadata": {},
     "output_type": "display_data"
    },
    {
     "data": {
      "text/html": [
       "<ol class=list-inline>\n",
       "\t<li>1.10258509387339</li>\n",
       "\t<li>1.10222658385953</li>\n",
       "</ol>\n"
      ],
      "text/latex": [
       "\\begin{enumerate*}\n",
       "\\item 1.10258509387339\n",
       "\\item 1.10222658385953\n",
       "\\end{enumerate*}\n"
      ],
      "text/markdown": [
       "1. 1.10258509387339\n",
       "2. 1.10222658385953\n",
       "\n",
       "\n"
      ],
      "text/plain": [
       "[1] 1.102585 1.102227"
      ]
     },
     "metadata": {},
     "output_type": "display_data"
    },
    {
     "data": {
      "text/html": [
       "<ol class=list-inline>\n",
       "\t<li>1.11477226814508</li>\n",
       "\t<li>1.11433406148513</li>\n",
       "</ol>\n"
      ],
      "text/latex": [
       "\\begin{enumerate*}\n",
       "\\item 1.11477226814508\n",
       "\\item 1.11433406148513\n",
       "\\end{enumerate*}\n"
      ],
      "text/markdown": [
       "1. 1.11477226814508\n",
       "2. 1.11433406148513\n",
       "\n",
       "\n"
      ],
      "text/plain": [
       "[1] 1.114772 1.114334"
      ]
     },
     "metadata": {},
     "output_type": "display_data"
    }
   ],
   "source": [
    "# part d\n",
    "\n",
    "set.seed(213)\n",
    "\n",
    "# create combined dataframe\n",
    "df_loocv <- data.frame(y, x, x2=x^2, x3=x^3, x4=x^4)\n",
    "\n",
    "# loocv error for model 1\n",
    "model1 <- glm(y ~ x, data=df_loocv)\n",
    "cv.loocverror1 <- cv.glm(df_loocv, model1)\n",
    "cv.loocverror1$delta\n",
    "\n",
    "# loocv error for model 2\n",
    "model2 <- glm(y ~ x + x2, data=df_loocv)\n",
    "cv.loocverror2 <- cv.glm(df_loocv, model2)\n",
    "cv.loocverror2$delta\n",
    "\n",
    "# loocv error for model 3\n",
    "model3 <- glm(y ~ x + x2 + x3, data=df_loocv)\n",
    "cv.loocverror3 <- cv.glm(df_loocv, model3)\n",
    "cv.loocverror3$delta\n",
    "\n",
    "# loocv error for model 4\n",
    "model4 <- glm(y ~ x + x2 + x3 + x4, data=df_loocv)\n",
    "cv.loocverror4 <- cv.glm(df_loocv, model4)\n",
    "cv.loocverror4$delta\n",
    "\n",
    "# Results are exactly the same in part c and d despite different seeds because LOOCV predicts every observation using the all of the rest of the observations so the seed doesnt matter "
   ]
  },
  {
   "cell_type": "code",
   "execution_count": null,
   "metadata": {},
   "outputs": [],
   "source": [
    "# part e\n",
    "\n",
    "# The loocv error is lowest for the second model. \n",
    "# While I did not expect this result (I thought higher polynomial degree would lead to lower error rate and better fit). \n",
    "# However it is important to test the different models as the results show that using the second model would give the lowest loocv error\n",
    "# after this it will start to overfit the data and the error will increase therefore second model is optimal"
   ]
  },
  {
   "cell_type": "code",
   "execution_count": 22,
   "metadata": {},
   "outputs": [
    {
     "data": {
      "text/plain": [
       "\n",
       "Call:\n",
       "lm(formula = y ~ poly(x, 4))\n",
       "\n",
       "Residuals:\n",
       "    Min      1Q  Median      3Q     Max \n",
       "-2.8914 -0.5244  0.0749  0.5932  2.7796 \n",
       "\n",
       "Coefficients:\n",
       "            Estimate Std. Error t value Pr(>|t|)    \n",
       "(Intercept)  -1.8277     0.1041 -17.549   <2e-16 ***\n",
       "poly(x, 4)1   2.3164     1.0415   2.224   0.0285 *  \n",
       "poly(x, 4)2 -21.0586     1.0415 -20.220   <2e-16 ***\n",
       "poly(x, 4)3  -0.3048     1.0415  -0.293   0.7704    \n",
       "poly(x, 4)4  -0.4926     1.0415  -0.473   0.6373    \n",
       "---\n",
       "Signif. codes:  0 '***' 0.001 '**' 0.01 '*' 0.05 '.' 0.1 ' ' 1\n",
       "\n",
       "Residual standard error: 1.041 on 95 degrees of freedom\n",
       "Multiple R-squared:  0.8134,\tAdjusted R-squared:  0.8055 \n",
       "F-statistic: 103.5 on 4 and 95 DF,  p-value: < 2.2e-16\n"
      ]
     },
     "metadata": {},
     "output_type": "display_data"
    }
   ],
   "source": [
    "# part f - check which are statistically significant predictors\n",
    "\n",
    "model_all <- lm(y ~ poly(x,4))\n",
    "summary(model_all)\n",
    "\n",
    "# The summary shows that only x and x^2 are statistically significant (p < .005). \n",
    "# This aligns with results from part e which also say that the second model (with only x and x^2) is the best one (lowest loocv error)\n",
    "\n"
   ]
  },
  {
   "cell_type": "code",
   "execution_count": null,
   "metadata": {},
   "outputs": [],
   "source": [
    "# question 1 chapter 6\n",
    "\n",
    "# part a\n",
    "\n",
    "# Best subset will have the smallest train RSS because it will look at all possible combinations of the variables to find the best combination\n",
    "# The models will optimize on the training RSS - using best subset we will try every model that forward and backward selection will try, along with all other possible models\n",
    "# therefore training RSS will be smallest for best subset selection as it will find the optimal model for the training set"
   ]
  },
  {
   "cell_type": "code",
   "execution_count": null,
   "metadata": {},
   "outputs": [],
   "source": [
    "# part b\n",
    "\n",
    "# The best test RSS model could be for any of the three methods.We need look at cross validation error or some other metric like Cp, AIC, BIC or adjusted R square before we can accurately say this.\n",
    "# Best subset can overfit if the data has a large number of predictors compared to number of observations. \n",
    "# Forward and backward selection might not result in the same model but it will try the same number of models - either of the two could be better\n"
   ]
  },
  {
   "cell_type": "code",
   "execution_count": null,
   "metadata": {},
   "outputs": [],
   "source": [
    "# part c\n",
    "\n",
    "# i.TRUE \n",
    "# ii.TRUE\n",
    "# iii.FALSE\n",
    "# iv.FALSE\n",
    "# v. FALSE"
   ]
  },
  {
   "cell_type": "code",
   "execution_count": 24,
   "metadata": {},
   "outputs": [
    {
     "name": "stdout",
     "output_type": "stream",
     "text": [
      "'data.frame':\t777 obs. of  18 variables:\n",
      " $ Private    : Factor w/ 2 levels \"No\",\"Yes\": 2 2 2 2 2 2 2 2 2 2 ...\n",
      " $ Apps       : num  1660 2186 1428 417 193 ...\n",
      " $ Accept     : num  1232 1924 1097 349 146 ...\n",
      " $ Enroll     : num  721 512 336 137 55 158 103 489 227 172 ...\n",
      " $ Top10perc  : num  23 16 22 60 16 38 17 37 30 21 ...\n",
      " $ Top25perc  : num  52 29 50 89 44 62 45 68 63 44 ...\n",
      " $ F.Undergrad: num  2885 2683 1036 510 249 ...\n",
      " $ P.Undergrad: num  537 1227 99 63 869 ...\n",
      " $ Outstate   : num  7440 12280 11250 12960 7560 ...\n",
      " $ Room.Board : num  3300 6450 3750 5450 4120 ...\n",
      " $ Books      : num  450 750 400 450 800 500 500 450 300 660 ...\n",
      " $ Personal   : num  2200 1500 1165 875 1500 ...\n",
      " $ PhD        : num  70 29 53 92 76 67 90 89 79 40 ...\n",
      " $ Terminal   : num  78 30 66 97 72 73 93 100 84 41 ...\n",
      " $ S.F.Ratio  : num  18.1 12.2 12.9 7.7 11.9 9.4 11.5 13.7 11.3 11.5 ...\n",
      " $ perc.alumni: num  12 16 30 37 2 11 26 37 23 15 ...\n",
      " $ Expend     : num  7041 10527 8735 19016 10922 ...\n",
      " $ Grad.Rate  : num  60 56 54 59 15 55 63 73 80 52 ...\n"
     ]
    }
   ],
   "source": [
    "# question 9 chapter 6\n",
    "\n",
    "# part a - split data into train and test sets\n",
    "data(College)\n",
    "set.seed(123)\n",
    "trainid <- sample(1:nrow(College), nrow(College)/2)\n",
    "training_set <- College[trainid,]\n",
    "test_set <- College[-trainid,]\n"
   ]
  },
  {
   "cell_type": "code",
   "execution_count": 71,
   "metadata": {},
   "outputs": [
    {
     "data": {
      "text/html": [
       "1768.33292576258"
      ],
      "text/latex": [
       "1768.33292576258"
      ],
      "text/markdown": [
       "1768.33292576258"
      ],
      "text/plain": [
       "[1] 1768.333"
      ]
     },
     "metadata": {},
     "output_type": "display_data"
    }
   ],
   "source": [
    "# part b - fit a linear model on training set \n",
    "\n",
    "fit_linearmodel <- lm(Apps~., data=training_set)\n",
    "predicted_linearmodel <- predict(fit_linearmodel, test_set)\n",
    "\n",
    "# the error on the test set\n",
    "error_lm <- mean((test_set$Apps - predicted_linearmodel)^2)\n",
    "error_lm"
   ]
  },
  {
   "cell_type": "code",
   "execution_count": 66,
   "metadata": {},
   "outputs": [
    {
     "data": {
      "text/html": [
       "21.8033649568256"
      ],
      "text/latex": [
       "21.8033649568256"
      ],
      "text/markdown": [
       "21.8033649568256"
      ],
      "text/plain": [
       "[1] 21.80336"
      ]
     },
     "metadata": {},
     "output_type": "display_data"
    },
    {
     "data": {
      "text/html": [
       "1397440.81459503"
      ],
      "text/latex": [
       "1397440.81459503"
      ],
      "text/markdown": [
       "1397440.81459503"
      ],
      "text/plain": [
       "[1] 1397441"
      ]
     },
     "metadata": {},
     "output_type": "display_data"
    }
   ],
   "source": [
    "# part c - fit a ridge regression model\n",
    "\n",
    "require(glmnet)\n",
    "training_matrix <- model.matrix(Apps~., data=training_set)[,-1]\n",
    "test_matrix <- model.matrix(Apps~., data=test_set)[,-1]\n",
    "fit_ridgemodel <- cv.glmnet(training_matrix, training_set$Apps) \n",
    "\n",
    "\n",
    "min_lambda <- fit_ridgemodel$lambda.min  # optimal lambda is the minimum lamda as there is high variance but low bias\n",
    "min_lambda #optimal lamda identified by cross validation\n",
    "\n",
    "# optimal lambda is using to predict on the test set\n",
    "pred_ridgemodel <- predict(fit_ridgemodel, s=min_lambda, test_matrix)\n",
    "\n",
    "# test error for the ridge regression model\n",
    "error_ridge <- mean((test_set$Apps - pred_ridgemodel)^2)  \n",
    "error_ridge"
   ]
  },
  {
   "cell_type": "code",
   "execution_count": 60,
   "metadata": {},
   "outputs": [
    {
     "data": {
      "text/html": [
       "19.8664141083744"
      ],
      "text/latex": [
       "19.8664141083744"
      ],
      "text/markdown": [
       "19.8664141083744"
      ],
      "text/plain": [
       "[1] 19.86641"
      ]
     },
     "metadata": {},
     "output_type": "display_data"
    },
    {
     "data": {
      "text/html": [
       "1396597.88113475"
      ],
      "text/latex": [
       "1396597.88113475"
      ],
      "text/markdown": [
       "1396597.88113475"
      ],
      "text/plain": [
       "[1] 1396598"
      ]
     },
     "metadata": {},
     "output_type": "display_data"
    },
    {
     "data": {
      "text/html": [
       "<dl class=dl-horizontal>\n",
       "\t<dt>(Intercept)</dt>\n",
       "\t\t<dd>-400.055157888283</dd>\n",
       "\t<dt>PrivateYes</dt>\n",
       "\t\t<dd>-722.433849618247</dd>\n",
       "\t<dt>Accept</dt>\n",
       "\t\t<dd>1.33125343155303</dd>\n",
       "\t<dt>Top10perc</dt>\n",
       "\t\t<dd>27.2100747868221</dd>\n",
       "\t<dt>Top25perc</dt>\n",
       "\t\t<dd>-0.044283988841261</dd>\n",
       "\t<dt>Outstate</dt>\n",
       "\t\t<dd>-0.0323208704822008</dd>\n",
       "\t<dt>Room.Board</dt>\n",
       "\t\t<dd>0.131859206927336</dd>\n",
       "\t<dt>Personal</dt>\n",
       "\t\t<dd>-0.0471847336921484</dd>\n",
       "\t<dt>PhD</dt>\n",
       "\t\t<dd>-3.59042759395643</dd>\n",
       "\t<dt>Terminal</dt>\n",
       "\t\t<dd>-6.14932619351677</dd>\n",
       "\t<dt>perc.alumni</dt>\n",
       "\t\t<dd>-7.39940716147219</dd>\n",
       "\t<dt>Expend</dt>\n",
       "\t\t<dd>0.0774336058267134</dd>\n",
       "\t<dt>Grad.Rate</dt>\n",
       "\t\t<dd>7.82832213237529</dd>\n",
       "</dl>\n"
      ],
      "text/latex": [
       "\\begin{description*}\n",
       "\\item[(Intercept)] -400.055157888283\n",
       "\\item[PrivateYes] -722.433849618247\n",
       "\\item[Accept] 1.33125343155303\n",
       "\\item[Top10perc] 27.2100747868221\n",
       "\\item[Top25perc] -0.044283988841261\n",
       "\\item[Outstate] -0.0323208704822008\n",
       "\\item[Room.Board] 0.131859206927336\n",
       "\\item[Personal] -0.0471847336921484\n",
       "\\item[PhD] -3.59042759395643\n",
       "\\item[Terminal] -6.14932619351677\n",
       "\\item[perc.alumni] -7.39940716147219\n",
       "\\item[Expend] 0.0774336058267134\n",
       "\\item[Grad.Rate] 7.82832213237529\n",
       "\\end{description*}\n"
      ],
      "text/markdown": [
       "(Intercept)\n",
       ":   -400.055157888283PrivateYes\n",
       ":   -722.433849618247Accept\n",
       ":   1.33125343155303Top10perc\n",
       ":   27.2100747868221Top25perc\n",
       ":   -0.044283988841261Outstate\n",
       ":   -0.0323208704822008Room.Board\n",
       ":   0.131859206927336Personal\n",
       ":   -0.0471847336921484PhD\n",
       ":   -3.59042759395643Terminal\n",
       ":   -6.14932619351677perc.alumni\n",
       ":   -7.39940716147219Expend\n",
       ":   0.0774336058267134Grad.Rate\n",
       ":   7.82832213237529\n",
       "\n"
      ],
      "text/plain": [
       "  (Intercept)    PrivateYes        Accept     Top10perc     Top25perc \n",
       "-400.05515789 -722.43384962    1.33125343   27.21007479   -0.04428399 \n",
       "     Outstate    Room.Board      Personal           PhD      Terminal \n",
       "  -0.03232087    0.13185921   -0.04718473   -3.59042759   -6.14932619 \n",
       "  perc.alumni        Expend     Grad.Rate \n",
       "  -7.39940716    0.07743361    7.82832213 "
      ]
     },
     "metadata": {},
     "output_type": "display_data"
    },
    {
     "data": {
      "text/html": [
       "13"
      ],
      "text/latex": [
       "13"
      ],
      "text/markdown": [
       "13"
      ],
      "text/plain": [
       "[1] 13"
      ]
     },
     "metadata": {},
     "output_type": "display_data"
    }
   ],
   "source": [
    "# part d - fit lasso regression model\n",
    "\n",
    "fit_lassomodel <- cv.glmnet(training_matrix, training_set$Apps, alpha=1)\n",
    "\n",
    "min_lambda <- fit_lassomodel$lambda.min  # optimal lambda identified through cross validation is the minimum lamda\n",
    "min_lambda\n",
    "\n",
    "# optimal lambda is using to predict on the test set\n",
    "pred_lassomodel <- predict(fit_lassomodel, s=min_lambda, test_matrix)\n",
    "\n",
    "# test error for the lasso regression model\n",
    "error_lasso <- mean((test_set$Apps - pred_lassomodel)^2)  \n",
    "error_lasso\n",
    "\n",
    "# number of non-zero coefficient estimates is 14 (not including the y intercept)\n",
    "coefficients <- predict(fit_lassomodel, type=\"coefficients\", s=min_lambda)[1:ncol(College),]\n",
    "coefficients[coefficients != 0]\n",
    "length(coefficients[coefficients != 0])"
   ]
  },
  {
   "cell_type": "code",
   "execution_count": 61,
   "metadata": {},
   "outputs": [
    {
     "name": "stderr",
     "output_type": "stream",
     "text": [
      "Installing package into 'C:/Users/skamal/Documents/R/win-library/3.6'\n",
      "(as 'lib' is unspecified)\n",
      "Warning message:\n",
      "\"package 'pls' is in use and will not be installed\""
     ]
    },
    {
     "name": "stdout",
     "output_type": "stream",
     "text": [
      "Data: \tX dimension: 388 17 \n",
      "\tY dimension: 388 1\n",
      "Fit method: svdpc\n",
      "Number of components considered: 17\n",
      "\n",
      "VALIDATION: RMSEP\n",
      "Cross-validated using 10 random segments.\n",
      "       (Intercept)  1 comps  2 comps  3 comps  4 comps  5 comps  6 comps\n",
      "CV            3258     3221     1664     1619     1329     1321     1221\n",
      "adjCV         3258     3222     1663     1617     1317     1317     1218\n",
      "       7 comps  8 comps  9 comps  10 comps  11 comps  12 comps  13 comps\n",
      "CV        1217     1219     1153      1152      1153      1156      1161\n",
      "adjCV     1218     1221     1150      1150      1150      1153      1158\n",
      "       14 comps  15 comps  16 comps  17 comps\n",
      "CV         1164      1160      1027      1024\n",
      "adjCV      1161      1160      1022      1020\n",
      "\n",
      "TRAINING: % variance explained\n",
      "      1 comps  2 comps  3 comps  4 comps  5 comps  6 comps  7 comps  8 comps\n",
      "X      32.969    59.69    66.68    72.25    77.31    81.82    85.18    88.34\n",
      "Apps    3.259    74.43    76.35    84.40    84.42    86.69    86.79    87.01\n",
      "      9 comps  10 comps  11 comps  12 comps  13 comps  14 comps  15 comps\n",
      "X       91.32     93.61     95.48     97.05     98.11     98.90     99.40\n",
      "Apps    88.38     88.39     88.47     88.49     88.50     88.51     88.74\n",
      "      16 comps  17 comps\n",
      "X        99.81    100.00\n",
      "Apps     91.48     91.58\n"
     ]
    },
    {
     "data": {
      "text/html": [
       "1373994.68331753"
      ],
      "text/latex": [
       "1373994.68331753"
      ],
      "text/markdown": [
       "1373994.68331753"
      ],
      "text/plain": [
       "[1] 1373995"
      ]
     },
     "metadata": {},
     "output_type": "display_data"
    },
    {
     "data": {
      "image/png": "[encoded data removed]",
      "text/plain": [
       "Plot with title \"Apps\""
      ]
     },
     "metadata": {},
     "output_type": "display_data"
    }
   ],
   "source": [
    "# part e - fit a PCR model\n",
    "\n",
    "install.packages(\"pls\")\n",
    "require(pls)\n",
    "set.seed(123)\n",
    "fit_pcrmodel <- pcr(Apps~., data=training_set, scale=TRUE, validation=\"CV\")\n",
    "validationplot(fit_pcrmodel, val.type=\"MSEP\")\n",
    "summary(fit_pcrmodel)\n",
    "\n",
    " # value of M selected by cross validation is M=17 as min CV\n",
    "pred_pcrmodel <- predict(fit_pcrmodel, test_set, ncomp=17) \n",
    "\n",
    "# test error for PCR model\n",
    "error_pcr <- mean((test_set$Apps - pred_pcrmodel)^2)  \n",
    "error_pcr\n"
   ]
  },
  {
   "cell_type": "code",
   "execution_count": 62,
   "metadata": {},
   "outputs": [
    {
     "name": "stdout",
     "output_type": "stream",
     "text": [
      "Data: \tX dimension: 388 17 \n",
      "\tY dimension: 388 1\n",
      "Fit method: kernelpls\n",
      "Number of components considered: 17\n",
      "\n",
      "VALIDATION: RMSEP\n",
      "Cross-validated using 10 random segments.\n",
      "       (Intercept)  1 comps  2 comps  3 comps  4 comps  5 comps  6 comps\n",
      "CV            3258     1502     1260     1137     1105     1070     1039\n",
      "adjCV         3258     1501     1260     1135     1102     1067     1033\n",
      "       7 comps  8 comps  9 comps  10 comps  11 comps  12 comps  13 comps\n",
      "CV        1033     1026     1025      1023      1024      1025      1025\n",
      "adjCV     1028     1021     1021      1019      1019      1020      1020\n",
      "       14 comps  15 comps  16 comps  17 comps\n",
      "CV         1025      1025      1024      1024\n",
      "adjCV      1020      1020      1020      1020\n",
      "\n",
      "TRAINING: % variance explained\n",
      "      1 comps  2 comps  3 comps  4 comps  5 comps  6 comps  7 comps  8 comps\n",
      "X       26.97    43.83    65.16    69.79    73.63    76.18    79.97    81.98\n",
      "Apps    79.33    85.98    88.76    89.67    90.59    91.43    91.54    91.56\n",
      "      9 comps  10 comps  11 comps  12 comps  13 comps  14 comps  15 comps\n",
      "X       84.18     86.85     90.18     91.77     93.55     95.40     97.35\n",
      "Apps    91.57     91.57     91.57     91.58     91.58     91.58     91.58\n",
      "      16 comps  17 comps\n",
      "X        99.06    100.00\n",
      "Apps     91.58     91.58\n"
     ]
    },
    {
     "data": {
      "text/html": [
       "1384150.91837861"
      ],
      "text/latex": [
       "1384150.91837861"
      ],
      "text/markdown": [
       "1384150.91837861"
      ],
      "text/plain": [
       "[1] 1384151"
      ]
     },
     "metadata": {},
     "output_type": "display_data"
    },
    {
     "data": {
      "image/png": "[encoded data removed]",
      "text/plain": [
       "Plot with title \"Apps\""
      ]
     },
     "metadata": {},
     "output_type": "display_data"
    }
   ],
   "source": [
    "# part f - fit a PLS model\n",
    "\n",
    "set.seed(123)\n",
    "\n",
    "fit_plsmodel <- plsr(Apps~., data=training_set, scale=TRUE, validation=\"CV\")\n",
    "validationplot(fit_plsmodel, val.type=\"MSEP\")\n",
    "summary(fit_plsmodel)\n",
    "\n",
    " # value of M selected by cross validation is M=10 as min CV\n",
    "pred_plsmodel <- predict(fit_plsmodel, test_set, ncomp=10)  \n",
    "\n",
    "# test error for PLS model\n",
    "error_pls <- mean((test_set$Apps - pred_plsmodel)^2) \n",
    "error_pls\n"
   ]
  },
  {
   "cell_type": "code",
   "execution_count": 70,
   "metadata": {},
   "outputs": [
    {
     "data": {
      "image/png": "[encoded data removed]",
      "text/plain": [
       "plot without title"
      ]
     },
     "metadata": {},
     "output_type": "display_data"
    },
    {
     "data": {
      "text/html": [
       "-1373993.68331753"
      ],
      "text/latex": [
       "-1373993.68331753"
      ],
      "text/markdown": [
       "-1373993.68331753"
      ],
      "text/plain": [
       "[1] -1373994"
      ]
     },
     "metadata": {},
     "output_type": "display_data"
    },
    {
     "data": {
      "image/png": "[encoded data removed]",
      "text/plain": [
       "plot without title"
      ]
     },
     "metadata": {},
     "output_type": "display_data"
    }
   ],
   "source": [
    "# part g\n",
    "errors <- c(error_lm, error_ridge, error_lasso, error_pcr, error_pls)\n",
    "barplot(errors)\n",
    "# not alot of differences in the test errors obtained by the five different approaches "
   ]
  },
  {
   "cell_type": "code",
   "execution_count": 74,
   "metadata": {},
   "outputs": [
    {
     "data": {
      "text/html": [
       "<table>\n",
       "<thead><tr><th></th><th scope=col>Estimate</th><th scope=col>Std. Error</th><th scope=col>t value</th><th scope=col>Pr(&gt;|t|)</th></tr></thead>\n",
       "<tbody>\n",
       "\t<tr><th scope=row>(Intercept)</th><td> 0.5546951   </td><td>0.00275939   </td><td>201.020894   </td><td> 0.000000e+00</td></tr>\n",
       "\t<tr><th scope=row>poly(dis, 3)1</th><td>-2.0030959   </td><td>0.06207094   </td><td>-32.271071   </td><td>1.597201e-124</td></tr>\n",
       "\t<tr><th scope=row>poly(dis, 3)2</th><td> 0.8563300   </td><td>0.06207094   </td><td> 13.795987   </td><td> 6.133104e-37</td></tr>\n",
       "\t<tr><th scope=row>poly(dis, 3)3</th><td>-0.3180490   </td><td>0.06207094   </td><td> -5.123959   </td><td> 4.274950e-07</td></tr>\n",
       "</tbody>\n",
       "</table>\n"
      ],
      "text/latex": [
       "\\begin{tabular}{r|llll}\n",
       "  & Estimate & Std. Error & t value & Pr(>\\textbar{}t\\textbar{})\\\\\n",
       "\\hline\n",
       "\t(Intercept) &  0.5546951    & 0.00275939    & 201.020894    &  0.000000e+00\\\\\n",
       "\tpoly(dis, 3)1 & -2.0030959    & 0.06207094    & -32.271071    & 1.597201e-124\\\\\n",
       "\tpoly(dis, 3)2 &  0.8563300    & 0.06207094    &  13.795987    &  6.133104e-37\\\\\n",
       "\tpoly(dis, 3)3 & -0.3180490    & 0.06207094    &  -5.123959    &  4.274950e-07\\\\\n",
       "\\end{tabular}\n"
      ],
      "text/markdown": [
       "\n",
       "| <!--/--> | Estimate | Std. Error | t value | Pr(>|t|) |\n",
       "|---|---|---|---|---|\n",
       "| (Intercept) |  0.5546951    | 0.00275939    | 201.020894    |  0.000000e+00 |\n",
       "| poly(dis, 3)1 | -2.0030959    | 0.06207094    | -32.271071    | 1.597201e-124 |\n",
       "| poly(dis, 3)2 |  0.8563300    | 0.06207094    |  13.795987    |  6.133104e-37 |\n",
       "| poly(dis, 3)3 | -0.3180490    | 0.06207094    |  -5.123959    |  4.274950e-07 |\n",
       "\n"
      ],
      "text/plain": [
       "              Estimate   Std. Error t value    Pr(>|t|)     \n",
       "(Intercept)    0.5546951 0.00275939 201.020894  0.000000e+00\n",
       "poly(dis, 3)1 -2.0030959 0.06207094 -32.271071 1.597201e-124\n",
       "poly(dis, 3)2  0.8563300 0.06207094  13.795987  6.133104e-37\n",
       "poly(dis, 3)3 -0.3180490 0.06207094  -5.123959  4.274950e-07"
      ]
     },
     "metadata": {},
     "output_type": "display_data"
    },
    {
     "data": {
      "text/plain": [
       "\n",
       "Call:\n",
       "lm(formula = nox ~ poly(dis, 3), data = Boston)\n",
       "\n",
       "Residuals:\n",
       "      Min        1Q    Median        3Q       Max \n",
       "-0.121130 -0.040619 -0.009738  0.023385  0.194904 \n",
       "\n",
       "Coefficients:\n",
       "               Estimate Std. Error t value Pr(>|t|)    \n",
       "(Intercept)    0.554695   0.002759 201.021  < 2e-16 ***\n",
       "poly(dis, 3)1 -2.003096   0.062071 -32.271  < 2e-16 ***\n",
       "poly(dis, 3)2  0.856330   0.062071  13.796  < 2e-16 ***\n",
       "poly(dis, 3)3 -0.318049   0.062071  -5.124 4.27e-07 ***\n",
       "---\n",
       "Signif. codes:  0 '***' 0.001 '**' 0.01 '*' 0.05 '.' 0.1 ' ' 1\n",
       "\n",
       "Residual standard error: 0.06207 on 502 degrees of freedom\n",
       "Multiple R-squared:  0.7148,\tAdjusted R-squared:  0.7131 \n",
       "F-statistic: 419.3 on 3 and 502 DF,  p-value: < 2.2e-16\n"
      ]
     },
     "metadata": {},
     "output_type": "display_data"
    },
    {
     "data": {
      "image/png": "[encoded data removed]",
      "text/plain": [
       "Plot with title \"Degree-3 Polynomial Fit\""
      ]
     },
     "metadata": {},
     "output_type": "display_data"
    }
   ],
   "source": [
    "# exercise 9 chapter 7\n",
    "\n",
    "# part a - fit a cubic polynomial regression\n",
    "\n",
    "data(Boston)\n",
    "set.seed(123)\n",
    "\n",
    "# predict nox using dis \n",
    "fit_polymodel <- lm(nox~poly(dis,3), data=Boston)\n",
    "\n",
    "#grid of values for dis at which we want predictions\n",
    "dislims <- range(Boston$dis)\n",
    "dis.grid <- seq(from=dislims[1], to=dislims[2], 0.1)\n",
    "\n",
    "# predict and get standard errors\n",
    "pred_polymodel <- predict(fit_polymodel, newdata=list(dis=dis.grid), se=TRUE)\n",
    "bands <- cbind(pred_polymodel$fit + 2*pred_polymodel$se.fit, pred_polymodel$fit - 2*pred_polymodel$se.fit)\n",
    "\n",
    "# plot the data and add the fit from the degree 3 polynomial\n",
    "par(mfrow=c(1,1), mar=c(4.5,4.5,1,1), oma=c(0,0,4,0))\n",
    "plot(Boston$dis, Boston$nox, xlim=dislims, cex=0.5, col=\"darkgrey\")\n",
    "title(\"Degree-3 Polynomial Fit\")\n",
    "lines(dis.grid, pred_polymodel$fit, lwd=2, col=\"blue\")\n",
    "matlines(dis.grid, bands, lwd=1, col=\"blue\", lty=3)\n",
    "summary(fit_polymodel)"
   ]
  },
  {
   "cell_type": "code",
   "execution_count": 76,
   "metadata": {},
   "outputs": [
    {
     "data": {
      "text/html": [
       "<ol class=list-inline>\n",
       "\t<li>2.76856285896928</li>\n",
       "\t<li>2.03526186893526</li>\n",
       "\t<li>1.93410670717907</li>\n",
       "\t<li>1.93298132729859</li>\n",
       "\t<li>1.9152899610843</li>\n",
       "\t<li>1.87825729850816</li>\n",
       "\t<li>1.84948361458298</li>\n",
       "\t<li>1.83562968906769</li>\n",
       "\t<li>1.8333308044916</li>\n",
       "\t<li>1.83217112393135</li>\n",
       "</ol>\n"
      ],
      "text/latex": [
       "\\begin{enumerate*}\n",
       "\\item 2.76856285896928\n",
       "\\item 2.03526186893526\n",
       "\\item 1.93410670717907\n",
       "\\item 1.93298132729859\n",
       "\\item 1.9152899610843\n",
       "\\item 1.87825729850816\n",
       "\\item 1.84948361458298\n",
       "\\item 1.83562968906769\n",
       "\\item 1.8333308044916\n",
       "\\item 1.83217112393135\n",
       "\\end{enumerate*}\n"
      ],
      "text/markdown": [
       "1. 2.76856285896928\n",
       "2. 2.03526186893526\n",
       "3. 1.93410670717907\n",
       "4. 1.93298132729859\n",
       "5. 1.9152899610843\n",
       "6. 1.87825729850816\n",
       "7. 1.84948361458298\n",
       "8. 1.83562968906769\n",
       "9. 1.8333308044916\n",
       "10. 1.83217112393135\n",
       "\n",
       "\n"
      ],
      "text/plain": [
       " [1] 2.768563 2.035262 1.934107 1.932981 1.915290 1.878257 1.849484 1.835630\n",
       " [9] 1.833331 1.832171"
      ]
     },
     "metadata": {},
     "output_type": "display_data"
    },
    {
     "data": {
      "image/png": "[encoded data removed]",
      "text/plain": [
       "plot without title"
      ]
     },
     "metadata": {},
     "output_type": "display_data"
    }
   ],
   "source": [
    "# part b - plot polynomial fits for range of polynomial degrees (1-10)\n",
    "\n",
    "rss_error <- rep(0,10)\n",
    "for (i in 1:10) {\n",
    "  fit_model <- lm(nox~poly(dis,i), data=Boston)\n",
    "  rss_error[i] <- sum(fit_model$residuals^2)\n",
    "}\n",
    "\n",
    "# residual sum of squares for polynomial degree 1 to 10\n",
    "rss_error\n",
    "plot(rss_error, type=\"b\")  "
   ]
  },
  {
   "cell_type": "code",
   "execution_count": 77,
   "metadata": {},
   "outputs": [
    {
     "data": {
      "text/html": [
       "<ol class=list-inline>\n",
       "\t<li>0.00551345928807082</li>\n",
       "\t<li>0.00408387669485197</li>\n",
       "\t<li>0.00387376443491753</li>\n",
       "\t<li>0.00391273710056921</li>\n",
       "\t<li>0.00412904133525036</li>\n",
       "\t<li>0.00544038960040945</li>\n",
       "\t<li>0.0102973928307572</li>\n",
       "\t<li>0.0136518856929598</li>\n",
       "\t<li>0.0148661964413754</li>\n",
       "\t<li>0.00893185342767952</li>\n",
       "</ol>\n"
      ],
      "text/latex": [
       "\\begin{enumerate*}\n",
       "\\item 0.00551345928807082\n",
       "\\item 0.00408387669485197\n",
       "\\item 0.00387376443491753\n",
       "\\item 0.00391273710056921\n",
       "\\item 0.00412904133525036\n",
       "\\item 0.00544038960040945\n",
       "\\item 0.0102973928307572\n",
       "\\item 0.0136518856929598\n",
       "\\item 0.0148661964413754\n",
       "\\item 0.00893185342767952\n",
       "\\end{enumerate*}\n"
      ],
      "text/markdown": [
       "1. 0.00551345928807082\n",
       "2. 0.00408387669485197\n",
       "3. 0.00387376443491753\n",
       "4. 0.00391273710056921\n",
       "5. 0.00412904133525036\n",
       "6. 0.00544038960040945\n",
       "7. 0.0102973928307572\n",
       "8. 0.0136518856929598\n",
       "9. 0.0148661964413754\n",
       "10. 0.00893185342767952\n",
       "\n",
       "\n"
      ],
      "text/plain": [
       " [1] 0.005513459 0.004083877 0.003873764 0.003912737 0.004129041 0.005440390\n",
       " [7] 0.010297393 0.013651886 0.014866196 0.008931853"
      ]
     },
     "metadata": {},
     "output_type": "display_data"
    },
    {
     "data": {
      "image/png": "[encoded data removed]",
      "text/plain": [
       "plot without title"
      ]
     },
     "metadata": {},
     "output_type": "display_data"
    }
   ],
   "source": [
    "# part c - use crossvalidation to select the optimal degree for polynomial\n",
    "\n",
    "require(boot)\n",
    "set.seed(123)\n",
    "cv_error <- rep(0,10)\n",
    "for (i in 1:10) {\n",
    "  fit_glm <- glm(nox~poly(dis,i), data=Boston)\n",
    "  cv_error[i] <- cv.glm(Boston, fit_glm, K=10)$delta[1] \n",
    "}\n",
    "cv_error\n",
    "plot(cv_error, type=\"b\")  \n",
    "\n",
    "# the optimal fit is with the 3rd degree polynomial as it has the lowest cv error. However, 4th degree polynomial is very close.\n",
    "# the cv error increases drastically after 7th degree polynomial"
   ]
  },
  {
   "cell_type": "code",
   "execution_count": 80,
   "metadata": {},
   "outputs": [
    {
     "data": {
      "text/html": [
       "<strong>50%:</strong> 3.20745"
      ],
      "text/latex": [
       "\\textbf{50\\textbackslash{}\\%:} 3.20745"
      ],
      "text/markdown": [
       "**50%:** 3.20745"
      ],
      "text/plain": [
       "    50% \n",
       "3.20745 "
      ]
     },
     "metadata": {},
     "output_type": "display_data"
    },
    {
     "data": {
      "image/png": "[encoded data removed]",
      "text/plain": [
       "plot without title"
      ]
     },
     "metadata": {},
     "output_type": "display_data"
    }
   ],
   "source": [
    "# part d - fit regression spline to predict nox using dis\n",
    "\n",
    "require(splines)\n",
    "\n",
    "# fit model 4 degrees of freedom\n",
    "fit_lm <- lm(nox~bs(dis, df=4), data=Boston)\n",
    "\n",
    "# predict\n",
    "pred_lm <- predict(fit_lm, newdata=list(dis=dis.grid), se=T)\n",
    "\n",
    "# plot the fit\n",
    "plot(Boston$dis, Boston$nox, col=\"gray\")\n",
    "lines(dis.grid, pred_lm$fit, lwd=2)\n",
    "lines(dis.grid, pred_lm$fit+2*pred_lm$se, lty=\"dashed\")\n",
    "lines(dis.grid, pred_lm$fit-2*pred_lm$se, lty=\"dashed\")\n",
    "\n",
    "# set df to 4 to select knots at uniform quantiles of `dis`\n",
    "attr(bs(Boston$dis,df=4),\"knots\")  # only 1 knot at 50th percentile\n",
    "\n"
   ]
  },
  {
   "cell_type": "code",
   "execution_count": 82,
   "metadata": {},
   "outputs": [
    {
     "data": {
      "text/html": [
       "<ol class=list-inline>\n",
       "\t<li>1.92277499281193</li>\n",
       "\t<li>1.84017280148852</li>\n",
       "\t<li>1.83396590316021</li>\n",
       "\t<li>1.82988444592328</li>\n",
       "\t<li>1.81699505672523</li>\n",
       "\t<li>1.82565251038706</li>\n",
       "\t<li>1.79253488955613</li>\n",
       "</ol>\n"
      ],
      "text/latex": [
       "\\begin{enumerate*}\n",
       "\\item 1.92277499281193\n",
       "\\item 1.84017280148852\n",
       "\\item 1.83396590316021\n",
       "\\item 1.82988444592328\n",
       "\\item 1.81699505672523\n",
       "\\item 1.82565251038706\n",
       "\\item 1.79253488955613\n",
       "\\end{enumerate*}\n"
      ],
      "text/markdown": [
       "1. 1.92277499281193\n",
       "2. 1.84017280148852\n",
       "3. 1.83396590316021\n",
       "4. 1.82988444592328\n",
       "5. 1.81699505672523\n",
       "6. 1.82565251038706\n",
       "7. 1.79253488955613\n",
       "\n",
       "\n"
      ],
      "text/plain": [
       "[1] 1.922775 1.840173 1.833966 1.829884 1.816995 1.825653 1.792535"
      ]
     },
     "metadata": {},
     "output_type": "display_data"
    },
    {
     "data": {
      "image/png": "[encoded data removed]",
      "text/plain": [
       "plot without title"
      ]
     },
     "metadata": {},
     "output_type": "display_data"
    }
   ],
   "source": [
    "#part e - fit regression spline for range of degrees of freedom\n",
    "\n",
    "set.seed(123)\n",
    "\n",
    "rss_error <- rep(0,7)\n",
    "for (i in 4:10) {\n",
    "  fit_lm <- lm(nox~bs(dis, df=i), data=Boston)\n",
    "  rss_error[i-3] <- sum(fit_lm$residuals^2)\n",
    "}\n",
    "rss_error\n",
    "plot(4:10, rss_error, type=\"b\")  \n",
    "# RSS decreases on the training set with more flexible fit as degrees of freedom are increased. RSS is lowest at 10 degrees of freedom"
   ]
  },
  {
   "cell_type": "code",
   "execution_count": 83,
   "metadata": {},
   "outputs": [
    {
     "name": "stderr",
     "output_type": "stream",
     "text": [
      "Warning message in bs(dis, degree = 3L, knots = c(`50%` = 3.1523), Boundary.knots = c(1.1691, :\n",
      "\"some 'x' values beyond boundary knots may cause ill-conditioned bases\"Warning message in bs(dis, degree = 3L, knots = c(`50%` = 3.1523), Boundary.knots = c(1.1691, :\n",
      "\"some 'x' values beyond boundary knots may cause ill-conditioned bases\"Warning message in bs(dis, degree = 3L, knots = c(`33.33333%` = 2.35953333333333, :\n",
      "\"some 'x' values beyond boundary knots may cause ill-conditioned bases\"Warning message in bs(dis, degree = 3L, knots = c(`33.33333%` = 2.35953333333333, :\n",
      "\"some 'x' values beyond boundary knots may cause ill-conditioned bases\"Warning message in bs(dis, degree = 3L, knots = c(`33.33333%` = 2.38883333333333, :\n",
      "\"some 'x' values beyond boundary knots may cause ill-conditioned bases\"Warning message in bs(dis, degree = 3L, knots = c(`33.33333%` = 2.38883333333333, :\n",
      "\"some 'x' values beyond boundary knots may cause ill-conditioned bases\"Warning message in bs(dis, degree = 3L, knots = c(`25%` = 2.0941, `50%` = 3.1827, :\n",
      "\"some 'x' values beyond boundary knots may cause ill-conditioned bases\"Warning message in bs(dis, degree = 3L, knots = c(`25%` = 2.0941, `50%` = 3.1827, :\n",
      "\"some 'x' values beyond boundary knots may cause ill-conditioned bases\"Warning message in bs(dis, degree = 3L, knots = c(`25%` = 2.0835, `50%` = 3.1827, :\n",
      "\"some 'x' values beyond boundary knots may cause ill-conditioned bases\"Warning message in bs(dis, degree = 3L, knots = c(`25%` = 2.0835, `50%` = 3.1827, :\n",
      "\"some 'x' values beyond boundary knots may cause ill-conditioned bases\"Warning message in bs(dis, degree = 3L, knots = c(`20%` = 1.9682, `40%` = 2.6403, :\n",
      "\"some 'x' values beyond boundary knots may cause ill-conditioned bases\"Warning message in bs(dis, degree = 3L, knots = c(`20%` = 1.9682, `40%` = 2.6403, :\n",
      "\"some 'x' values beyond boundary knots may cause ill-conditioned bases\"Warning message in bs(dis, degree = 3L, knots = c(`20%` = 1.92938, `40%` = 2.54318, :\n",
      "\"some 'x' values beyond boundary knots may cause ill-conditioned bases\"Warning message in bs(dis, degree = 3L, knots = c(`20%` = 1.92938, `40%` = 2.54318, :\n",
      "\"some 'x' values beyond boundary knots may cause ill-conditioned bases\"Warning message in bs(dis, degree = 3L, knots = c(`16.66667%` = 1.83066666666667, :\n",
      "\"some 'x' values beyond boundary knots may cause ill-conditioned bases\"Warning message in bs(dis, degree = 3L, knots = c(`16.66667%` = 1.83066666666667, :\n",
      "\"some 'x' values beyond boundary knots may cause ill-conditioned bases\"Warning message in bs(dis, degree = 3L, knots = c(`14.28571%` = 1.79777142857143, :\n",
      "\"some 'x' values beyond boundary knots may cause ill-conditioned bases\"Warning message in bs(dis, degree = 3L, knots = c(`14.28571%` = 1.79777142857143, :\n",
      "\"some 'x' values beyond boundary knots may cause ill-conditioned bases\"Warning message in bs(dis, degree = 3L, knots = c(`14.28571%` = 1.79078571428571, :\n",
      "\"some 'x' values beyond boundary knots may cause ill-conditioned bases\"Warning message in bs(dis, degree = 3L, knots = c(`14.28571%` = 1.79078571428571, :\n",
      "\"some 'x' values beyond boundary knots may cause ill-conditioned bases\"Warning message in bs(dis, degree = 3L, knots = c(`12.5%` = 1.75675, `25%` = 2.1114, :\n",
      "\"some 'x' values beyond boundary knots may cause ill-conditioned bases\"Warning message in bs(dis, degree = 3L, knots = c(`12.5%` = 1.75675, `25%` = 2.1114, :\n",
      "\"some 'x' values beyond boundary knots may cause ill-conditioned bases\""
     ]
    },
    {
     "data": {
      "text/html": [
       "<ol class=list-inline>\n",
       "\t<li>0.00387963099048126</li>\n",
       "\t<li>0.00369063649552328</li>\n",
       "\t<li>0.00371137847177232</li>\n",
       "\t<li>0.003743247376966</li>\n",
       "\t<li>0.00370582296208384</li>\n",
       "\t<li>0.00376586398743577</li>\n",
       "\t<li>0.00369389156773218</li>\n",
       "</ol>\n"
      ],
      "text/latex": [
       "\\begin{enumerate*}\n",
       "\\item 0.00387963099048126\n",
       "\\item 0.00369063649552328\n",
       "\\item 0.00371137847177232\n",
       "\\item 0.003743247376966\n",
       "\\item 0.00370582296208384\n",
       "\\item 0.00376586398743577\n",
       "\\item 0.00369389156773218\n",
       "\\end{enumerate*}\n"
      ],
      "text/markdown": [
       "1. 0.00387963099048126\n",
       "2. 0.00369063649552328\n",
       "3. 0.00371137847177232\n",
       "4. 0.003743247376966\n",
       "5. 0.00370582296208384\n",
       "6. 0.00376586398743577\n",
       "7. 0.00369389156773218\n",
       "\n",
       "\n"
      ],
      "text/plain": [
       "[1] 0.003879631 0.003690636 0.003711378 0.003743247 0.003705823 0.003765864\n",
       "[7] 0.003693892"
      ]
     },
     "metadata": {},
     "output_type": "display_data"
    },
    {
     "data": {
      "image/png": "[encoded data removed]",
      "text/plain": [
       "plot without title"
      ]
     },
     "metadata": {},
     "output_type": "display_data"
    }
   ],
   "source": [
    "# part f - use cross validation to select best degrees of freedom\n",
    "\n",
    "\n",
    "set.seed(123)\n",
    "\n",
    "cv_error <- rep(0,7)\n",
    "for (i in 4:10) {\n",
    "  fit_glm <- glm(nox~bs(dis, df=i), data=Boston)\n",
    "  cv_error[i-3] <- cv.glm(Boston, fit_glm, K=10)$delta[1]\n",
    "}\n",
    "cv_error\n",
    "plot(4:10, cv_error, type=\"b\")  \n",
    "# according to the cross validation (minimum cv error) we should use at least 5 degrees of freedom where cv error is lowest. CV error increases again after 5 degrees of freedom"
   ]
  },
  {
   "cell_type": "code",
   "execution_count": 105,
   "metadata": {},
   "outputs": [
    {
     "name": "stderr",
     "output_type": "stream",
     "text": [
      "Installing package into 'C:/Users/skamal/Documents/R/win-library/3.6'\n",
      "(as 'lib' is unspecified)\n",
      "Warning message:\n",
      "\"package 'leaps' is in use and will not be installed\""
     ]
    },
    {
     "data": {
      "text/html": [
       "<dl class=dl-horizontal>\n",
       "\t<dt>(Intercept)</dt>\n",
       "\t\t<dd>-3697.55346345889</dd>\n",
       "\t<dt>PrivateYes</dt>\n",
       "\t\t<dd>3060.78836081198</dd>\n",
       "\t<dt>Room.Board</dt>\n",
       "\t\t<dd>0.701039246854702</dd>\n",
       "\t<dt>Terminal</dt>\n",
       "\t\t<dd>43.1190756138722</dd>\n",
       "\t<dt>perc.alumni</dt>\n",
       "\t\t<dd>43.1830819888109</dd>\n",
       "\t<dt>Expend</dt>\n",
       "\t\t<dd>0.260082264417848</dd>\n",
       "\t<dt>Grad.Rate</dt>\n",
       "\t\t<dd>29.7766194319444</dd>\n",
       "</dl>\n"
      ],
      "text/latex": [
       "\\begin{description*}\n",
       "\\item[(Intercept)] -3697.55346345889\n",
       "\\item[PrivateYes] 3060.78836081198\n",
       "\\item[Room.Board] 0.701039246854702\n",
       "\\item[Terminal] 43.1190756138722\n",
       "\\item[perc.alumni] 43.1830819888109\n",
       "\\item[Expend] 0.260082264417848\n",
       "\\item[Grad.Rate] 29.7766194319444\n",
       "\\end{description*}\n"
      ],
      "text/markdown": [
       "(Intercept)\n",
       ":   -3697.55346345889PrivateYes\n",
       ":   3060.78836081198Room.Board\n",
       ":   0.701039246854702Terminal\n",
       ":   43.1190756138722perc.alumni\n",
       ":   43.1830819888109Expend\n",
       ":   0.260082264417848Grad.Rate\n",
       ":   29.7766194319444\n",
       "\n"
      ],
      "text/plain": [
       "  (Intercept)    PrivateYes    Room.Board      Terminal   perc.alumni \n",
       "-3697.5534635  3060.7883608     0.7010392    43.1190756    43.1830820 \n",
       "       Expend     Grad.Rate \n",
       "    0.2600823    29.7766194 "
      ]
     },
     "metadata": {},
     "output_type": "display_data"
    },
    {
     "data": {
      "image/png": "[encoded data removed]",
      "text/plain": [
       "Plot with title \"bic\""
      ]
     },
     "metadata": {},
     "output_type": "display_data"
    }
   ],
   "source": [
    "# exercise 10 chapter 7\n",
    "\n",
    "# part a\n",
    "install.packages(\"leaps\")\n",
    "library(leaps)\n",
    "data(College)\n",
    "set.seed(123)\n",
    "\n",
    "# split data into training and test sets\n",
    "trainid <- sample(1:nrow(College), nrow(College)/2)\n",
    "training_set <- College[trainid,]\n",
    "test_set <- College[-trainid,]\n",
    "\n",
    "# predict function from chapter 6 labs\n",
    "predict.regsubsets <- function(object, newdata, id, ...){\n",
    "  form <- as.formula(object$call[[2]])\n",
    "  matrix1 <- model.matrix(form, newdata)\n",
    "  coeffs <- coef(object, id=id)\n",
    "  xvars <- names(coeffs)\n",
    "  matrix1[,xvars]%*%coeffs\n",
    "}\n",
    "\n",
    "# fit forward selection\n",
    "fit_forward <- regsubsets(Outstate~., data=training_set, nvmax=ncol(College)-1)\n",
    "forward_summary <- summary(fit_forward)\n",
    "error_forward <- rep(NA, ncol(College)-1)\n",
    "for(i in 1:(ncol(College)-1)) {\n",
    "  predict_forward <- predict(fit_forward, test_set, id=i)\n",
    "  error_forward[i] <- mean((test_set$Outstate - predict_forward)^2)\n",
    "}\n",
    "\n",
    "# plot the numbers predictors with MSE, adjusted R2, Cp, and BIC to identify how many predictors should be used optimally\n",
    "par(mfrow=c(2,2))\n",
    "\n",
    "# plot MSE\n",
    "plot(error_forward, type=\"b\", main=\"Test MSE\", xlab=\"Number of Predictors\")\n",
    "min_error <- which.min(error_forward)  \n",
    "points(min_error, error_forward[min_error], col=\"red\", pch=4, lwd=5)\n",
    "\n",
    "# plot adjusted R squared\n",
    "plot(forward_summary$adjr2, type=\"b\", main=\"Adjusted R^2\", xlab=\"Number of Predictors\")\n",
    "max_adjr2 <- which.max(forward_summary$adjr2)  \n",
    "points(max_adjr2, forward_summary$adjr2[max_adjr2], col=\"red\", pch=4, lwd=5)\n",
    "\n",
    "# plot Cp statistic\n",
    "plot(forward_summary$cp, type=\"b\", main=\"cp\", xlab=\"Number of Predictors\")\n",
    "min_cp <- which.min(forward_summary$cp)  \n",
    "points(min_cp, forward_summary$cp[min_cp], col=\"red\", pch=4, lwd=5)\n",
    "\n",
    "# plot BIC statistic\n",
    "plot(forward_summary$bic, type=\"b\", main=\"bic\", xlab=\"Number of Predictors\")\n",
    "min_bic <- which.min(forward_summary$bic)  \n",
    "points(min_bic, forward_summary$bic[min_bic], col=\"red\", pch=4, lwd=5)\n",
    "\n",
    "# model metrics do not improve much after 6 predictors\n",
    "coef(fit_forward, 6)"
   ]
  },
  {
   "cell_type": "code",
   "execution_count": 99,
   "metadata": {},
   "outputs": [
    {
     "name": "stderr",
     "output_type": "stream",
     "text": [
      "Installing package into 'C:/Users/skamal/Documents/R/win-library/3.6'\n",
      "(as 'lib' is unspecified)\n",
      "Warning message:\n",
      "\"package 'gam' is in use and will not be installed\"Warning message in model.matrix.default(mt, mf, contrasts):\n",
      "\"non-list contrasts argument ignored\""
     ]
    },
    {
     "data": {
      "text/plain": [
       "\n",
       "Call: gam(formula = Outstate ~ Private + s(Room.Board, 3) + s(Terminal, \n",
       "    3) + s(perc.alumni, 3) + s(Expend, 3) + s(Grad.Rate, 3), \n",
       "    data = College)\n",
       "Deviance Residuals:\n",
       "     Min       1Q   Median       3Q      Max \n",
       "-7110.16 -1137.02    50.44  1285.38  8278.86 \n",
       "\n",
       "(Dispersion Parameter for gaussian family taken to be 3520187)\n",
       "\n",
       "    Null Deviance: 12559297426 on 776 degrees of freedom\n",
       "Residual Deviance: 2675342725 on 760.0001 degrees of freedom\n",
       "AIC: 13936.36 \n",
       "\n",
       "Number of Local Scoring Iterations: 2 \n",
       "\n",
       "Anova for Parametric Effects\n",
       "                   Df     Sum Sq    Mean Sq F value    Pr(>F)    \n",
       "Private             1 3366732308 3366732308 956.407 < 2.2e-16 ***\n",
       "s(Room.Board, 3)    1 2549088628 2549088628 724.134 < 2.2e-16 ***\n",
       "s(Terminal, 3)      1  802254341  802254341 227.901 < 2.2e-16 ***\n",
       "s(perc.alumni, 3)   1  525154274  525154274 149.184 < 2.2e-16 ***\n",
       "s(Expend, 3)        1 1022010841 1022010841 290.329 < 2.2e-16 ***\n",
       "s(Grad.Rate, 3)     1  151344060  151344060  42.993 1.014e-10 ***\n",
       "Residuals         760 2675342725    3520187                      \n",
       "---\n",
       "Signif. codes:  0 '***' 0.001 '**' 0.01 '*' 0.05 '.' 0.1 ' ' 1\n",
       "\n",
       "Anova for Nonparametric Effects\n",
       "                  Npar Df Npar F   Pr(F)    \n",
       "(Intercept)                                 \n",
       "Private                                     \n",
       "s(Room.Board, 3)        2  2.591 0.07557 .  \n",
       "s(Terminal, 3)          2  2.558 0.07815 .  \n",
       "s(perc.alumni, 3)       2  0.835 0.43446    \n",
       "s(Expend, 3)            2 56.179 < 2e-16 ***\n",
       "s(Grad.Rate, 3)         2  3.363 0.03515 *  \n",
       "---\n",
       "Signif. codes:  0 '***' 0.001 '**' 0.01 '*' 0.05 '.' 0.1 ' ' 1"
      ]
     },
     "metadata": {},
     "output_type": "display_data"
    },
    {
     "data": {
      "image/png": "[encoded data removed]",
      "text/plain": [
       "plot without title"
      ]
     },
     "metadata": {},
     "output_type": "display_data"
    }
   ],
   "source": [
    "# part b - fit a generalized additive model\n",
    "\n",
    "install.packages(\"gam\")\n",
    "library(gam)\n",
    "\n",
    "# fit model \n",
    "fit_gammodel <- gam(Outstate ~  Private + s(Room.Board,3) + s(Terminal,3) + s(perc.alumni,3) + s(Expend,3) + s(Grad.Rate,3), data=College)\n",
    "\n",
    "# plot results and see summary\n",
    "par(mfrow=c(2,3))\n",
    "plot(fit_gammodel, se=TRUE, col=\"red\")\n",
    "summary(fit_gammodel)\n",
    "\n",
    "# the results show that non-linear terms are required for expend followed by grad.rate. non-linear terms may also be required for room.board and terminal"
   ]
  },
  {
   "cell_type": "code",
   "execution_count": 107,
   "metadata": {},
   "outputs": [
    {
     "data": {
      "text/html": [
       "3331222.69598878"
      ],
      "text/latex": [
       "3331222.69598878"
      ],
      "text/markdown": [
       "3331222.69598878"
      ],
      "text/plain": [
       "[1] 3331223"
      ]
     },
     "metadata": {},
     "output_type": "display_data"
    }
   ],
   "source": [
    "# part c - evaluate GAM model on test set\n",
    "\n",
    "# fit model\n",
    "predicted_gam <- predict(fit_gammodel, test_set)\n",
    "\n",
    "# calculate test error\n",
    "mse_error <- mean((test_set$Outstate - predicted_gam)^2)\n",
    "mse_error\n",
    "\n",
    "\n",
    "# the MSE error is better than the MSE error we got with the linear fit in part a\n",
    "\n"
   ]
  },
  {
   "cell_type": "code",
   "execution_count": 101,
   "metadata": {},
   "outputs": [
    {
     "data": {
      "text/plain": [
       "\n",
       "Call: gam(formula = Outstate ~ Private + s(Room.Board, 3) + s(Terminal, \n",
       "    3) + s(perc.alumni, 3) + s(Expend, 3) + s(Grad.Rate, 3), \n",
       "    data = College)\n",
       "Deviance Residuals:\n",
       "     Min       1Q   Median       3Q      Max \n",
       "-7110.16 -1137.02    50.44  1285.38  8278.86 \n",
       "\n",
       "(Dispersion Parameter for gaussian family taken to be 3520187)\n",
       "\n",
       "    Null Deviance: 12559297426 on 776 degrees of freedom\n",
       "Residual Deviance: 2675342725 on 760.0001 degrees of freedom\n",
       "AIC: 13936.36 \n",
       "\n",
       "Number of Local Scoring Iterations: 2 \n",
       "\n",
       "Anova for Parametric Effects\n",
       "                   Df     Sum Sq    Mean Sq F value    Pr(>F)    \n",
       "Private             1 3366732308 3366732308 956.407 < 2.2e-16 ***\n",
       "s(Room.Board, 3)    1 2549088628 2549088628 724.134 < 2.2e-16 ***\n",
       "s(Terminal, 3)      1  802254341  802254341 227.901 < 2.2e-16 ***\n",
       "s(perc.alumni, 3)   1  525154274  525154274 149.184 < 2.2e-16 ***\n",
       "s(Expend, 3)        1 1022010841 1022010841 290.329 < 2.2e-16 ***\n",
       "s(Grad.Rate, 3)     1  151344060  151344060  42.993 1.014e-10 ***\n",
       "Residuals         760 2675342725    3520187                      \n",
       "---\n",
       "Signif. codes:  0 '***' 0.001 '**' 0.01 '*' 0.05 '.' 0.1 ' ' 1\n",
       "\n",
       "Anova for Nonparametric Effects\n",
       "                  Npar Df Npar F   Pr(F)    \n",
       "(Intercept)                                 \n",
       "Private                                     \n",
       "s(Room.Board, 3)        2  2.591 0.07557 .  \n",
       "s(Terminal, 3)          2  2.558 0.07815 .  \n",
       "s(perc.alumni, 3)       2  0.835 0.43446    \n",
       "s(Expend, 3)            2 56.179 < 2e-16 ***\n",
       "s(Grad.Rate, 3)         2  3.363 0.03515 *  \n",
       "---\n",
       "Signif. codes:  0 '***' 0.001 '**' 0.01 '*' 0.05 '.' 0.1 ' ' 1"
      ]
     },
     "metadata": {},
     "output_type": "display_data"
    }
   ],
   "source": [
    "# part d\n",
    "\n",
    "summary(fit_gammodel)\n",
    "\n",
    "# Strong evidence of non-linear effects for `Expend` followed by moderate evidence for `Grad.Rate` (p < .05)\n",
    "# Some evidence of non-linear effects for 'Room.board' and 'Terminal' (p <0.1)\n",
    "# no evidence for `Perc.alumni` (p > 1)\n"
   ]
  }
 ],
 "metadata": {
  "kernelspec": {
   "display_name": "R",
   "language": "R",
   "name": "ir"
  },
  "language_info": {
   "codemirror_mode": "r",
   "file_extension": ".r",
   "mimetype": "text/x-r-source",
   "name": "R",
   "pygments_lexer": "r",
   "version": "3.6.0"
  }
 },
 "nbformat": 4,
 "nbformat_minor": 2
}
