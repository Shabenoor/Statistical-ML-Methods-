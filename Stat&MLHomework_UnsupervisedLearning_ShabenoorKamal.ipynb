{
 "cells": [
  {
   "cell_type": "code",
   "execution_count": null,
   "metadata": {},
   "outputs": [],
   "source": [
    "# Statistical and Machine Learning\n",
    "# Unsupervised Learning - Homework Assignment\n",
    "# Shabenoor Kamal"
   ]
  },
  {
   "cell_type": "code",
   "execution_count": 3,
   "metadata": {},
   "outputs": [
    {
     "data": {
      "text/html": [
       "<table>\n",
       "<tbody>\n",
       "\t<tr><td>1</td><td>4</td></tr>\n",
       "\t<tr><td>1</td><td>3</td></tr>\n",
       "\t<tr><td>0</td><td>4</td></tr>\n",
       "\t<tr><td>5</td><td>1</td></tr>\n",
       "\t<tr><td>6</td><td>2</td></tr>\n",
       "\t<tr><td>4</td><td>0</td></tr>\n",
       "</tbody>\n",
       "</table>\n"
      ],
      "text/latex": [
       "\\begin{tabular}{ll}\n",
       "\t 1 & 4\\\\\n",
       "\t 1 & 3\\\\\n",
       "\t 0 & 4\\\\\n",
       "\t 5 & 1\\\\\n",
       "\t 6 & 2\\\\\n",
       "\t 4 & 0\\\\\n",
       "\\end{tabular}\n"
      ],
      "text/markdown": [
       "\n",
       "| 1 | 4 |\n",
       "| 1 | 3 |\n",
       "| 0 | 4 |\n",
       "| 5 | 1 |\n",
       "| 6 | 2 |\n",
       "| 4 | 0 |\n",
       "\n"
      ],
      "text/plain": [
       "     [,1] [,2]\n",
       "[1,] 1    4   \n",
       "[2,] 1    3   \n",
       "[3,] 0    4   \n",
       "[4,] 5    1   \n",
       "[5,] 6    2   \n",
       "[6,] 4    0   "
      ]
     },
     "metadata": {},
     "output_type": "display_data"
    },
    {
     "data": {
      "image/png": "[encoded data removed]",
      "text/plain": [
       "plot without title"
      ]
     },
     "metadata": {},
     "output_type": "display_data"
    }
   ],
   "source": [
    "# Question 3 - Chapter 10\n",
    "\n",
    "# plot the observations\n",
    "obs = cbind(c(1, 1, 0, 5, 6, 4), c(4, 3, 4, 1, 2, 0))\n",
    "obs\n",
    "\n",
    "plot(obs[,1], obs[,2])"
   ]
  },
  {
   "cell_type": "code",
   "execution_count": 4,
   "metadata": {},
   "outputs": [
    {
     "data": {
      "text/html": [
       "<ol class=list-inline>\n",
       "\t<li>1</li>\n",
       "\t<li>1</li>\n",
       "\t<li>2</li>\n",
       "\t<li>1</li>\n",
       "\t<li>1</li>\n",
       "\t<li>2</li>\n",
       "</ol>\n"
      ],
      "text/latex": [
       "\\begin{enumerate*}\n",
       "\\item 1\n",
       "\\item 1\n",
       "\\item 2\n",
       "\\item 1\n",
       "\\item 1\n",
       "\\item 2\n",
       "\\end{enumerate*}\n"
      ],
      "text/markdown": [
       "1. 1\n",
       "2. 1\n",
       "3. 2\n",
       "4. 1\n",
       "5. 1\n",
       "6. 2\n",
       "\n",
       "\n"
      ],
      "text/plain": [
       "[1] 1 1 2 1 1 2"
      ]
     },
     "metadata": {},
     "output_type": "display_data"
    }
   ],
   "source": [
    "# randomly assign a cluster label to each observation\n",
    "\n",
    "clus_label = sample(2, nrow(obs), replace=T)\n",
    "clus_label"
   ]
  },
  {
   "cell_type": "code",
   "execution_count": 6,
   "metadata": {},
   "outputs": [],
   "source": [
    "# compute the centroid for each cluster \n",
    "\n",
    "centroid1 = c(mean(obs[clus_label==1, 1]), mean(obs[clus_label==1, 2]))\n",
    "centroid2 = c(mean(obs[clus_label==2, 1]), mean(obs[clus_label==2, 2]))"
   ]
  },
  {
   "cell_type": "code",
   "execution_count": 7,
   "metadata": {},
   "outputs": [
    {
     "data": {
      "text/html": [
       "<ol class=list-inline>\n",
       "\t<li>3.25</li>\n",
       "\t<li>2.5</li>\n",
       "</ol>\n"
      ],
      "text/latex": [
       "\\begin{enumerate*}\n",
       "\\item 3.25\n",
       "\\item 2.5\n",
       "\\end{enumerate*}\n"
      ],
      "text/markdown": [
       "1. 3.25\n",
       "2. 2.5\n",
       "\n",
       "\n"
      ],
      "text/plain": [
       "[1] 3.25 2.50"
      ]
     },
     "metadata": {},
     "output_type": "display_data"
    }
   ],
   "source": [
    "centroid1"
   ]
  },
  {
   "cell_type": "code",
   "execution_count": 8,
   "metadata": {},
   "outputs": [
    {
     "data": {
      "text/html": [
       "<ol class=list-inline>\n",
       "\t<li>2</li>\n",
       "\t<li>2</li>\n",
       "</ol>\n"
      ],
      "text/latex": [
       "\\begin{enumerate*}\n",
       "\\item 2\n",
       "\\item 2\n",
       "\\end{enumerate*}\n"
      ],
      "text/markdown": [
       "1. 2\n",
       "2. 2\n",
       "\n",
       "\n"
      ],
      "text/plain": [
       "[1] 2 2"
      ]
     },
     "metadata": {},
     "output_type": "display_data"
    }
   ],
   "source": [
    "centroid2"
   ]
  },
  {
   "cell_type": "code",
   "execution_count": 9,
   "metadata": {},
   "outputs": [
    {
     "data": {
      "image/png": "[encoded data removed]",
      "text/plain": [
       "plot without title"
      ]
     },
     "metadata": {},
     "output_type": "display_data"
    }
   ],
   "source": [
    "# plot the centroids\n",
    "\n",
    "plot(obs[,1], obs[,2], col=(clus_label+1), pch=20, cex=2)\n",
    "points(centroid1[1], centroid1[2], col=2, pch=4)\n",
    "points(centroid2[1], centroid2[2], col=3, pch=4)"
   ]
  },
  {
   "cell_type": "code",
   "execution_count": 11,
   "metadata": {},
   "outputs": [
    {
     "data": {
      "text/html": [
       "<ol class=list-inline>\n",
       "\t<li>2</li>\n",
       "\t<li>2</li>\n",
       "\t<li>2</li>\n",
       "\t<li>1</li>\n",
       "\t<li>1</li>\n",
       "\t<li>1</li>\n",
       "</ol>\n"
      ],
      "text/latex": [
       "\\begin{enumerate*}\n",
       "\\item 2\n",
       "\\item 2\n",
       "\\item 2\n",
       "\\item 1\n",
       "\\item 1\n",
       "\\item 1\n",
       "\\end{enumerate*}\n"
      ],
      "text/markdown": [
       "1. 2\n",
       "2. 2\n",
       "3. 2\n",
       "4. 1\n",
       "5. 1\n",
       "6. 1\n",
       "\n",
       "\n"
      ],
      "text/plain": [
       "[1] 2 2 2 1 1 1"
      ]
     },
     "metadata": {},
     "output_type": "display_data"
    }
   ],
   "source": [
    "# assign each observation to the closest centroid\n",
    "\n",
    "euclid = function(a, b) {\n",
    "  return(sqrt((a[1] - b[1])^2 + (a[2]-b[2])^2))\n",
    "}\n",
    "assign_labels = function(x, centroid1, centroid2) {\n",
    "  labels = rep(NA, nrow(x))\n",
    "  for (i in 1:nrow(x)) {\n",
    "    if (euclid(x[i,], centroid1) < euclid(x[i,], centroid2)) {\n",
    "      labels[i] = 1\n",
    "    } else {\n",
    "      labels[i] = 2\n",
    "    }\n",
    "  }\n",
    "  return(labels)\n",
    "}\n",
    "\n",
    "clus_label = assign_labels(obs, centroid1, centroid2)\n",
    "clus_label"
   ]
  },
  {
   "cell_type": "code",
   "execution_count": 17,
   "metadata": {},
   "outputs": [
    {
     "name": "stdout",
     "output_type": "stream",
     "text": [
      "[1] 5 1\n",
      "[1] 0.6666667 3.6666667\n"
     ]
    },
    {
     "data": {
      "text/html": [
       "<ol class=list-inline>\n",
       "\t<li>2</li>\n",
       "\t<li>2</li>\n",
       "\t<li>2</li>\n",
       "\t<li>1</li>\n",
       "\t<li>1</li>\n",
       "\t<li>1</li>\n",
       "</ol>\n"
      ],
      "text/latex": [
       "\\begin{enumerate*}\n",
       "\\item 2\n",
       "\\item 2\n",
       "\\item 2\n",
       "\\item 1\n",
       "\\item 1\n",
       "\\item 1\n",
       "\\end{enumerate*}\n"
      ],
      "text/markdown": [
       "1. 2\n",
       "2. 2\n",
       "3. 2\n",
       "4. 1\n",
       "5. 1\n",
       "6. 1\n",
       "\n",
       "\n"
      ],
      "text/plain": [
       "[1] 2 2 2 1 1 1"
      ]
     },
     "metadata": {},
     "output_type": "display_data"
    }
   ],
   "source": [
    "# repeat last two steps till the labels stop changing\n",
    "\n",
    "last_labels = rep(-1, 6)\n",
    "while (!all(last_labels == clus_label)) {\n",
    "  last_labels = clus_label\n",
    "  centroid1 = c(mean(obs[clus_label==1, 1]), mean(obs[clus_label==1, 2]))\n",
    "  centroid2 = c(mean(obs[clus_label==2, 1]), mean(obs[clus_label==2, 2]))\n",
    "  print(centroid1)\n",
    "  print(centroid2)\n",
    "  clus_label = assign_labels(obs, centroid1, centroid2)\n",
    "}\n",
    "\n",
    "clus_label"
   ]
  },
  {
   "cell_type": "code",
   "execution_count": 23,
   "metadata": {},
   "outputs": [
    {
     "data": {
      "image/png": "[encoded data removed]",
      "text/plain": [
       "plot without title"
      ]
     },
     "metadata": {},
     "output_type": "display_data"
    }
   ],
   "source": [
    "# plot the new cluster obs \n",
    "\n",
    "plot(obs[,1], obs[,2], col=(clus_label+1), pch=20, cex=2)\n",
    "points(centroid1[1], centroid1[2], col=2, pch=4)\n",
    "points(centroid2[1], centroid2[2], col=3, pch=4)"
   ]
  },
  {
   "cell_type": "code",
   "execution_count": 24,
   "metadata": {},
   "outputs": [
    {
     "name": "stderr",
     "output_type": "stream",
     "text": [
      "Warning message:\n",
      "\"package 'ISLR' was built under R version 3.6.2\""
     ]
    },
    {
     "data": {
      "text/html": [
       "<ol class=list-inline>\n",
       "\t<li>0.620060394787374</li>\n",
       "\t<li>0.24744128813496</li>\n",
       "\t<li>0.0891407951452075</li>\n",
       "\t<li>0.0433575219324588</li>\n",
       "</ol>\n"
      ],
      "text/latex": [
       "\\begin{enumerate*}\n",
       "\\item 0.620060394787374\n",
       "\\item 0.24744128813496\n",
       "\\item 0.0891407951452075\n",
       "\\item 0.0433575219324588\n",
       "\\end{enumerate*}\n"
      ],
      "text/markdown": [
       "1. 0.620060394787374\n",
       "2. 0.24744128813496\n",
       "3. 0.0891407951452075\n",
       "4. 0.0433575219324588\n",
       "\n",
       "\n"
      ],
      "text/plain": [
       "[1] 0.62006039 0.24744129 0.08914080 0.04335752"
      ]
     },
     "metadata": {},
     "output_type": "display_data"
    }
   ],
   "source": [
    "# Question 8 - Chapter 10\n",
    "\n",
    "library(ISLR)\n",
    "set.seed(123)\n",
    "\n",
    "# part a - calculate PVE using sdev output of prcomp() function\n",
    "\n",
    "pr.out = prcomp(USArrests, center=T, scale=T)\n",
    "pr.var = pr.out$sdev^2\n",
    "pve = pr.var / sum(pr.var)\n",
    "pve\n",
    "\n"
   ]
  },
  {
   "cell_type": "code",
   "execution_count": 25,
   "metadata": {},
   "outputs": [
    {
     "data": {
      "text/html": [
       "<ol class=list-inline>\n",
       "\t<li>0.620060394787374</li>\n",
       "\t<li>0.24744128813496</li>\n",
       "\t<li>0.0891407951452075</li>\n",
       "\t<li>0.0433575219324588</li>\n",
       "</ol>\n"
      ],
      "text/latex": [
       "\\begin{enumerate*}\n",
       "\\item 0.620060394787374\n",
       "\\item 0.24744128813496\n",
       "\\item 0.0891407951452075\n",
       "\\item 0.0433575219324588\n",
       "\\end{enumerate*}\n"
      ],
      "text/markdown": [
       "1. 0.620060394787374\n",
       "2. 0.24744128813496\n",
       "3. 0.0891407951452075\n",
       "4. 0.0433575219324588\n",
       "\n",
       "\n"
      ],
      "text/plain": [
       "[1] 0.62006039 0.24744129 0.08914080 0.04335752"
      ]
     },
     "metadata": {},
     "output_type": "display_data"
    }
   ],
   "source": [
    "# part b - calculate PVE by applying the equation\n",
    "\n",
    "loadings = pr.out$rotation\n",
    "pve2 = rep(NA, 4)\n",
    "mean_cal = apply(USArrests, 2, mean)\n",
    "sdev_cal = sqrt(apply(USArrests, 2, var))\n",
    "dsc = sweep(USArrests, MARGIN=2, mean_cal, \"-\")\n",
    "dsc = sweep(dsc, MARGIN=2, sdev_cal, \"/\")\n",
    "for (i in 1:4) {\n",
    "  proto_x = sweep(dsc, MARGIN=2, loadings[,i], \"*\")\n",
    "  pc_x = apply(proto_x, 1, sum)\n",
    "  pve2[i] = sum(pc_x^2)\n",
    "}\n",
    "pve2 = pve2/sum(dsc^2)\n",
    "pve2\n",
    "\n"
   ]
  },
  {
   "cell_type": "code",
   "execution_count": 26,
   "metadata": {},
   "outputs": [
    {
     "data": {
      "image/png": "[encoded data removed]",
      "text/plain": [
       "Plot with title \"Cluster Dendrogram\""
      ]
     },
     "metadata": {},
     "output_type": "display_data"
    }
   ],
   "source": [
    "# Exercise 9 - Chapter 10\n",
    "\n",
    "# part a - cluster states using hierarchal clustering, Euc distance and complete linkage\n",
    "\n",
    "hier_clustering = hclust(dist(USArrests), method=\"complete\")\n",
    "plot(hier_clustering)"
   ]
  },
  {
   "cell_type": "code",
   "execution_count": 27,
   "metadata": {},
   "outputs": [
    {
     "data": {
      "text/html": [
       "<dl class=dl-horizontal>\n",
       "\t<dt>Alabama</dt>\n",
       "\t\t<dd>1</dd>\n",
       "\t<dt>Alaska</dt>\n",
       "\t\t<dd>1</dd>\n",
       "\t<dt>Arizona</dt>\n",
       "\t\t<dd>1</dd>\n",
       "\t<dt>Arkansas</dt>\n",
       "\t\t<dd>2</dd>\n",
       "\t<dt>California</dt>\n",
       "\t\t<dd>1</dd>\n",
       "\t<dt>Colorado</dt>\n",
       "\t\t<dd>2</dd>\n",
       "\t<dt>Connecticut</dt>\n",
       "\t\t<dd>3</dd>\n",
       "\t<dt>Delaware</dt>\n",
       "\t\t<dd>1</dd>\n",
       "\t<dt>Florida</dt>\n",
       "\t\t<dd>1</dd>\n",
       "\t<dt>Georgia</dt>\n",
       "\t\t<dd>2</dd>\n",
       "\t<dt>Hawaii</dt>\n",
       "\t\t<dd>3</dd>\n",
       "\t<dt>Idaho</dt>\n",
       "\t\t<dd>3</dd>\n",
       "\t<dt>Illinois</dt>\n",
       "\t\t<dd>1</dd>\n",
       "\t<dt>Indiana</dt>\n",
       "\t\t<dd>3</dd>\n",
       "\t<dt>Iowa</dt>\n",
       "\t\t<dd>3</dd>\n",
       "\t<dt>Kansas</dt>\n",
       "\t\t<dd>3</dd>\n",
       "\t<dt>Kentucky</dt>\n",
       "\t\t<dd>3</dd>\n",
       "\t<dt>Louisiana</dt>\n",
       "\t\t<dd>1</dd>\n",
       "\t<dt>Maine</dt>\n",
       "\t\t<dd>3</dd>\n",
       "\t<dt>Maryland</dt>\n",
       "\t\t<dd>1</dd>\n",
       "\t<dt>Massachusetts</dt>\n",
       "\t\t<dd>2</dd>\n",
       "\t<dt>Michigan</dt>\n",
       "\t\t<dd>1</dd>\n",
       "\t<dt>Minnesota</dt>\n",
       "\t\t<dd>3</dd>\n",
       "\t<dt>Mississippi</dt>\n",
       "\t\t<dd>1</dd>\n",
       "\t<dt>Missouri</dt>\n",
       "\t\t<dd>2</dd>\n",
       "\t<dt>Montana</dt>\n",
       "\t\t<dd>3</dd>\n",
       "\t<dt>Nebraska</dt>\n",
       "\t\t<dd>3</dd>\n",
       "\t<dt>Nevada</dt>\n",
       "\t\t<dd>1</dd>\n",
       "\t<dt>New Hampshire</dt>\n",
       "\t\t<dd>3</dd>\n",
       "\t<dt>New Jersey</dt>\n",
       "\t\t<dd>2</dd>\n",
       "\t<dt>New Mexico</dt>\n",
       "\t\t<dd>1</dd>\n",
       "\t<dt>New York</dt>\n",
       "\t\t<dd>1</dd>\n",
       "\t<dt>North Carolina</dt>\n",
       "\t\t<dd>1</dd>\n",
       "\t<dt>North Dakota</dt>\n",
       "\t\t<dd>3</dd>\n",
       "\t<dt>Ohio</dt>\n",
       "\t\t<dd>3</dd>\n",
       "\t<dt>Oklahoma</dt>\n",
       "\t\t<dd>2</dd>\n",
       "\t<dt>Oregon</dt>\n",
       "\t\t<dd>2</dd>\n",
       "\t<dt>Pennsylvania</dt>\n",
       "\t\t<dd>3</dd>\n",
       "\t<dt>Rhode Island</dt>\n",
       "\t\t<dd>2</dd>\n",
       "\t<dt>South Carolina</dt>\n",
       "\t\t<dd>1</dd>\n",
       "\t<dt>South Dakota</dt>\n",
       "\t\t<dd>3</dd>\n",
       "\t<dt>Tennessee</dt>\n",
       "\t\t<dd>2</dd>\n",
       "\t<dt>Texas</dt>\n",
       "\t\t<dd>2</dd>\n",
       "\t<dt>Utah</dt>\n",
       "\t\t<dd>3</dd>\n",
       "\t<dt>Vermont</dt>\n",
       "\t\t<dd>3</dd>\n",
       "\t<dt>Virginia</dt>\n",
       "\t\t<dd>2</dd>\n",
       "\t<dt>Washington</dt>\n",
       "\t\t<dd>2</dd>\n",
       "\t<dt>West Virginia</dt>\n",
       "\t\t<dd>3</dd>\n",
       "\t<dt>Wisconsin</dt>\n",
       "\t\t<dd>3</dd>\n",
       "\t<dt>Wyoming</dt>\n",
       "\t\t<dd>2</dd>\n",
       "</dl>\n"
      ],
      "text/latex": [
       "\\begin{description*}\n",
       "\\item[Alabama] 1\n",
       "\\item[Alaska] 1\n",
       "\\item[Arizona] 1\n",
       "\\item[Arkansas] 2\n",
       "\\item[California] 1\n",
       "\\item[Colorado] 2\n",
       "\\item[Connecticut] 3\n",
       "\\item[Delaware] 1\n",
       "\\item[Florida] 1\n",
       "\\item[Georgia] 2\n",
       "\\item[Hawaii] 3\n",
       "\\item[Idaho] 3\n",
       "\\item[Illinois] 1\n",
       "\\item[Indiana] 3\n",
       "\\item[Iowa] 3\n",
       "\\item[Kansas] 3\n",
       "\\item[Kentucky] 3\n",
       "\\item[Louisiana] 1\n",
       "\\item[Maine] 3\n",
       "\\item[Maryland] 1\n",
       "\\item[Massachusetts] 2\n",
       "\\item[Michigan] 1\n",
       "\\item[Minnesota] 3\n",
       "\\item[Mississippi] 1\n",
       "\\item[Missouri] 2\n",
       "\\item[Montana] 3\n",
       "\\item[Nebraska] 3\n",
       "\\item[Nevada] 1\n",
       "\\item[New Hampshire] 3\n",
       "\\item[New Jersey] 2\n",
       "\\item[New Mexico] 1\n",
       "\\item[New York] 1\n",
       "\\item[North Carolina] 1\n",
       "\\item[North Dakota] 3\n",
       "\\item[Ohio] 3\n",
       "\\item[Oklahoma] 2\n",
       "\\item[Oregon] 2\n",
       "\\item[Pennsylvania] 3\n",
       "\\item[Rhode Island] 2\n",
       "\\item[South Carolina] 1\n",
       "\\item[South Dakota] 3\n",
       "\\item[Tennessee] 2\n",
       "\\item[Texas] 2\n",
       "\\item[Utah] 3\n",
       "\\item[Vermont] 3\n",
       "\\item[Virginia] 2\n",
       "\\item[Washington] 2\n",
       "\\item[West Virginia] 3\n",
       "\\item[Wisconsin] 3\n",
       "\\item[Wyoming] 2\n",
       "\\end{description*}\n"
      ],
      "text/markdown": [
       "Alabama\n",
       ":   1Alaska\n",
       ":   1Arizona\n",
       ":   1Arkansas\n",
       ":   2California\n",
       ":   1Colorado\n",
       ":   2Connecticut\n",
       ":   3Delaware\n",
       ":   1Florida\n",
       ":   1Georgia\n",
       ":   2Hawaii\n",
       ":   3Idaho\n",
       ":   3Illinois\n",
       ":   1Indiana\n",
       ":   3Iowa\n",
       ":   3Kansas\n",
       ":   3Kentucky\n",
       ":   3Louisiana\n",
       ":   1Maine\n",
       ":   3Maryland\n",
       ":   1Massachusetts\n",
       ":   2Michigan\n",
       ":   1Minnesota\n",
       ":   3Mississippi\n",
       ":   1Missouri\n",
       ":   2Montana\n",
       ":   3Nebraska\n",
       ":   3Nevada\n",
       ":   1New Hampshire\n",
       ":   3New Jersey\n",
       ":   2New Mexico\n",
       ":   1New York\n",
       ":   1North Carolina\n",
       ":   1North Dakota\n",
       ":   3Ohio\n",
       ":   3Oklahoma\n",
       ":   2Oregon\n",
       ":   2Pennsylvania\n",
       ":   3Rhode Island\n",
       ":   2South Carolina\n",
       ":   1South Dakota\n",
       ":   3Tennessee\n",
       ":   2Texas\n",
       ":   2Utah\n",
       ":   3Vermont\n",
       ":   3Virginia\n",
       ":   2Washington\n",
       ":   2West Virginia\n",
       ":   3Wisconsin\n",
       ":   3Wyoming\n",
       ":   2\n",
       "\n"
      ],
      "text/plain": [
       "       Alabama         Alaska        Arizona       Arkansas     California \n",
       "             1              1              1              2              1 \n",
       "      Colorado    Connecticut       Delaware        Florida        Georgia \n",
       "             2              3              1              1              2 \n",
       "        Hawaii          Idaho       Illinois        Indiana           Iowa \n",
       "             3              3              1              3              3 \n",
       "        Kansas       Kentucky      Louisiana          Maine       Maryland \n",
       "             3              3              1              3              1 \n",
       " Massachusetts       Michigan      Minnesota    Mississippi       Missouri \n",
       "             2              1              3              1              2 \n",
       "       Montana       Nebraska         Nevada  New Hampshire     New Jersey \n",
       "             3              3              1              3              2 \n",
       "    New Mexico       New York North Carolina   North Dakota           Ohio \n",
       "             1              1              1              3              3 \n",
       "      Oklahoma         Oregon   Pennsylvania   Rhode Island South Carolina \n",
       "             2              2              3              2              1 \n",
       "  South Dakota      Tennessee          Texas           Utah        Vermont \n",
       "             3              2              2              3              3 \n",
       "      Virginia     Washington  West Virginia      Wisconsin        Wyoming \n",
       "             2              2              3              3              2 "
      ]
     },
     "metadata": {},
     "output_type": "display_data"
    }
   ],
   "source": [
    "# part b\n",
    "\n",
    "# cut dendogramto create three distinct clusters \n",
    "\n",
    "cutree(hier_clustering, 3)"
   ]
  },
  {
   "cell_type": "code",
   "execution_count": 28,
   "metadata": {},
   "outputs": [
    {
     "data": {
      "text/plain": [
       "\n",
       " 1  2  3 \n",
       "16 14 20 "
      ]
     },
     "metadata": {},
     "output_type": "display_data"
    }
   ],
   "source": [
    "# get the number of states in each cluster \n",
    "table(cutree(hier_clustering, 3))"
   ]
  },
  {
   "cell_type": "code",
   "execution_count": 29,
   "metadata": {},
   "outputs": [
    {
     "data": {
      "image/png": "[encoded data removed]",
      "text/plain": [
       "Plot with title \"Cluster Dendrogram\""
      ]
     },
     "metadata": {},
     "output_type": "display_data"
    }
   ],
   "source": [
    "# part c\n",
    "\n",
    "# hierarchal clustering after scaling variables to std dev of 1\n",
    "\n",
    "scaled = scale(USArrests)\n",
    "hier_scaled_clustering = hclust(dist(scaled), method=\"complete\")\n",
    "plot(hier_scaled_clustering)"
   ]
  },
  {
   "cell_type": "code",
   "execution_count": 30,
   "metadata": {},
   "outputs": [
    {
     "data": {
      "text/html": [
       "<dl class=dl-horizontal>\n",
       "\t<dt>Alabama</dt>\n",
       "\t\t<dd>1</dd>\n",
       "\t<dt>Alaska</dt>\n",
       "\t\t<dd>1</dd>\n",
       "\t<dt>Arizona</dt>\n",
       "\t\t<dd>2</dd>\n",
       "\t<dt>Arkansas</dt>\n",
       "\t\t<dd>3</dd>\n",
       "\t<dt>California</dt>\n",
       "\t\t<dd>2</dd>\n",
       "\t<dt>Colorado</dt>\n",
       "\t\t<dd>2</dd>\n",
       "\t<dt>Connecticut</dt>\n",
       "\t\t<dd>3</dd>\n",
       "\t<dt>Delaware</dt>\n",
       "\t\t<dd>3</dd>\n",
       "\t<dt>Florida</dt>\n",
       "\t\t<dd>2</dd>\n",
       "\t<dt>Georgia</dt>\n",
       "\t\t<dd>1</dd>\n",
       "\t<dt>Hawaii</dt>\n",
       "\t\t<dd>3</dd>\n",
       "\t<dt>Idaho</dt>\n",
       "\t\t<dd>3</dd>\n",
       "\t<dt>Illinois</dt>\n",
       "\t\t<dd>2</dd>\n",
       "\t<dt>Indiana</dt>\n",
       "\t\t<dd>3</dd>\n",
       "\t<dt>Iowa</dt>\n",
       "\t\t<dd>3</dd>\n",
       "\t<dt>Kansas</dt>\n",
       "\t\t<dd>3</dd>\n",
       "\t<dt>Kentucky</dt>\n",
       "\t\t<dd>3</dd>\n",
       "\t<dt>Louisiana</dt>\n",
       "\t\t<dd>1</dd>\n",
       "\t<dt>Maine</dt>\n",
       "\t\t<dd>3</dd>\n",
       "\t<dt>Maryland</dt>\n",
       "\t\t<dd>2</dd>\n",
       "\t<dt>Massachusetts</dt>\n",
       "\t\t<dd>3</dd>\n",
       "\t<dt>Michigan</dt>\n",
       "\t\t<dd>2</dd>\n",
       "\t<dt>Minnesota</dt>\n",
       "\t\t<dd>3</dd>\n",
       "\t<dt>Mississippi</dt>\n",
       "\t\t<dd>1</dd>\n",
       "\t<dt>Missouri</dt>\n",
       "\t\t<dd>3</dd>\n",
       "\t<dt>Montana</dt>\n",
       "\t\t<dd>3</dd>\n",
       "\t<dt>Nebraska</dt>\n",
       "\t\t<dd>3</dd>\n",
       "\t<dt>Nevada</dt>\n",
       "\t\t<dd>2</dd>\n",
       "\t<dt>New Hampshire</dt>\n",
       "\t\t<dd>3</dd>\n",
       "\t<dt>New Jersey</dt>\n",
       "\t\t<dd>3</dd>\n",
       "\t<dt>New Mexico</dt>\n",
       "\t\t<dd>2</dd>\n",
       "\t<dt>New York</dt>\n",
       "\t\t<dd>2</dd>\n",
       "\t<dt>North Carolina</dt>\n",
       "\t\t<dd>1</dd>\n",
       "\t<dt>North Dakota</dt>\n",
       "\t\t<dd>3</dd>\n",
       "\t<dt>Ohio</dt>\n",
       "\t\t<dd>3</dd>\n",
       "\t<dt>Oklahoma</dt>\n",
       "\t\t<dd>3</dd>\n",
       "\t<dt>Oregon</dt>\n",
       "\t\t<dd>3</dd>\n",
       "\t<dt>Pennsylvania</dt>\n",
       "\t\t<dd>3</dd>\n",
       "\t<dt>Rhode Island</dt>\n",
       "\t\t<dd>3</dd>\n",
       "\t<dt>South Carolina</dt>\n",
       "\t\t<dd>1</dd>\n",
       "\t<dt>South Dakota</dt>\n",
       "\t\t<dd>3</dd>\n",
       "\t<dt>Tennessee</dt>\n",
       "\t\t<dd>1</dd>\n",
       "\t<dt>Texas</dt>\n",
       "\t\t<dd>2</dd>\n",
       "\t<dt>Utah</dt>\n",
       "\t\t<dd>3</dd>\n",
       "\t<dt>Vermont</dt>\n",
       "\t\t<dd>3</dd>\n",
       "\t<dt>Virginia</dt>\n",
       "\t\t<dd>3</dd>\n",
       "\t<dt>Washington</dt>\n",
       "\t\t<dd>3</dd>\n",
       "\t<dt>West Virginia</dt>\n",
       "\t\t<dd>3</dd>\n",
       "\t<dt>Wisconsin</dt>\n",
       "\t\t<dd>3</dd>\n",
       "\t<dt>Wyoming</dt>\n",
       "\t\t<dd>3</dd>\n",
       "</dl>\n"
      ],
      "text/latex": [
       "\\begin{description*}\n",
       "\\item[Alabama] 1\n",
       "\\item[Alaska] 1\n",
       "\\item[Arizona] 2\n",
       "\\item[Arkansas] 3\n",
       "\\item[California] 2\n",
       "\\item[Colorado] 2\n",
       "\\item[Connecticut] 3\n",
       "\\item[Delaware] 3\n",
       "\\item[Florida] 2\n",
       "\\item[Georgia] 1\n",
       "\\item[Hawaii] 3\n",
       "\\item[Idaho] 3\n",
       "\\item[Illinois] 2\n",
       "\\item[Indiana] 3\n",
       "\\item[Iowa] 3\n",
       "\\item[Kansas] 3\n",
       "\\item[Kentucky] 3\n",
       "\\item[Louisiana] 1\n",
       "\\item[Maine] 3\n",
       "\\item[Maryland] 2\n",
       "\\item[Massachusetts] 3\n",
       "\\item[Michigan] 2\n",
       "\\item[Minnesota] 3\n",
       "\\item[Mississippi] 1\n",
       "\\item[Missouri] 3\n",
       "\\item[Montana] 3\n",
       "\\item[Nebraska] 3\n",
       "\\item[Nevada] 2\n",
       "\\item[New Hampshire] 3\n",
       "\\item[New Jersey] 3\n",
       "\\item[New Mexico] 2\n",
       "\\item[New York] 2\n",
       "\\item[North Carolina] 1\n",
       "\\item[North Dakota] 3\n",
       "\\item[Ohio] 3\n",
       "\\item[Oklahoma] 3\n",
       "\\item[Oregon] 3\n",
       "\\item[Pennsylvania] 3\n",
       "\\item[Rhode Island] 3\n",
       "\\item[South Carolina] 1\n",
       "\\item[South Dakota] 3\n",
       "\\item[Tennessee] 1\n",
       "\\item[Texas] 2\n",
       "\\item[Utah] 3\n",
       "\\item[Vermont] 3\n",
       "\\item[Virginia] 3\n",
       "\\item[Washington] 3\n",
       "\\item[West Virginia] 3\n",
       "\\item[Wisconsin] 3\n",
       "\\item[Wyoming] 3\n",
       "\\end{description*}\n"
      ],
      "text/markdown": [
       "Alabama\n",
       ":   1Alaska\n",
       ":   1Arizona\n",
       ":   2Arkansas\n",
       ":   3California\n",
       ":   2Colorado\n",
       ":   2Connecticut\n",
       ":   3Delaware\n",
       ":   3Florida\n",
       ":   2Georgia\n",
       ":   1Hawaii\n",
       ":   3Idaho\n",
       ":   3Illinois\n",
       ":   2Indiana\n",
       ":   3Iowa\n",
       ":   3Kansas\n",
       ":   3Kentucky\n",
       ":   3Louisiana\n",
       ":   1Maine\n",
       ":   3Maryland\n",
       ":   2Massachusetts\n",
       ":   3Michigan\n",
       ":   2Minnesota\n",
       ":   3Mississippi\n",
       ":   1Missouri\n",
       ":   3Montana\n",
       ":   3Nebraska\n",
       ":   3Nevada\n",
       ":   2New Hampshire\n",
       ":   3New Jersey\n",
       ":   3New Mexico\n",
       ":   2New York\n",
       ":   2North Carolina\n",
       ":   1North Dakota\n",
       ":   3Ohio\n",
       ":   3Oklahoma\n",
       ":   3Oregon\n",
       ":   3Pennsylvania\n",
       ":   3Rhode Island\n",
       ":   3South Carolina\n",
       ":   1South Dakota\n",
       ":   3Tennessee\n",
       ":   1Texas\n",
       ":   2Utah\n",
       ":   3Vermont\n",
       ":   3Virginia\n",
       ":   3Washington\n",
       ":   3West Virginia\n",
       ":   3Wisconsin\n",
       ":   3Wyoming\n",
       ":   3\n",
       "\n"
      ],
      "text/plain": [
       "       Alabama         Alaska        Arizona       Arkansas     California \n",
       "             1              1              2              3              2 \n",
       "      Colorado    Connecticut       Delaware        Florida        Georgia \n",
       "             2              3              3              2              1 \n",
       "        Hawaii          Idaho       Illinois        Indiana           Iowa \n",
       "             3              3              2              3              3 \n",
       "        Kansas       Kentucky      Louisiana          Maine       Maryland \n",
       "             3              3              1              3              2 \n",
       " Massachusetts       Michigan      Minnesota    Mississippi       Missouri \n",
       "             3              2              3              1              3 \n",
       "       Montana       Nebraska         Nevada  New Hampshire     New Jersey \n",
       "             3              3              2              3              3 \n",
       "    New Mexico       New York North Carolina   North Dakota           Ohio \n",
       "             2              2              1              3              3 \n",
       "      Oklahoma         Oregon   Pennsylvania   Rhode Island South Carolina \n",
       "             3              3              3              3              1 \n",
       "  South Dakota      Tennessee          Texas           Utah        Vermont \n",
       "             3              1              2              3              3 \n",
       "      Virginia     Washington  West Virginia      Wisconsin        Wyoming \n",
       "             3              3              3              3              3 "
      ]
     },
     "metadata": {},
     "output_type": "display_data"
    }
   ],
   "source": [
    "# part d\n",
    "\n",
    "# get three distinct clusters from the dendogram to compare results\n",
    "\n",
    "cutree(hier_scaled_clustering, 3)"
   ]
  },
  {
   "cell_type": "code",
   "execution_count": 31,
   "metadata": {},
   "outputs": [
    {
     "data": {
      "text/plain": [
       "   \n",
       "     1  2  3\n",
       "  1  6  2  0\n",
       "  2  9  2  0\n",
       "  3  1 10 20"
      ]
     },
     "metadata": {},
     "output_type": "display_data"
    }
   ],
   "source": [
    "# compare results of both scaled and unscaled clustering \n",
    "\n",
    "table(cutree(hier_scaled_clustering, 3), cutree(hier_clustering, 3))\n",
    "\n",
    "# Based on the results scaling the variabled has an effect on the clusters obtained from cutting the dendogram into 3 distinct clusters.\n",
    "# For this data set the data should be standardized because the data measured has different units (UrbanPop compared to other three columns)."
   ]
  },
  {
   "cell_type": "code",
   "execution_count": 36,
   "metadata": {},
   "outputs": [],
   "source": [
    "# Exercise 10 - Chapter 10\n",
    "\n",
    "# part a - generate simulated dataset \n",
    "\n",
    "dataset = matrix(rnorm(20*3*50, mean=0, sd=0.001), ncol=50)\n",
    "dataset[1:20, 2] = 1\n",
    "dataset[21:40, 1] = 2\n",
    "dataset[21:40, 2] = 2\n",
    "dataset[41:60, 1] = 1"
   ]
  },
  {
   "cell_type": "code",
   "execution_count": 37,
   "metadata": {},
   "outputs": [
    {
     "data": {
      "text/plain": [
       "Importance of components:\n",
       "                         PC1    PC2      PC3      PC4      PC5      PC6\n",
       "Standard deviation     1.008 0.5822 0.001856 0.001761 0.001688 0.001605\n",
       "Proportion of Variance 0.750 0.2500 0.000000 0.000000 0.000000 0.000000\n",
       "Cumulative Proportion  0.750 1.0000 0.999970 0.999970 0.999970 0.999970\n",
       "                            PC7      PC8      PC9     PC10     PC11    PC12\n",
       "Standard deviation     0.001503 0.001454 0.001448 0.001365 0.001348 0.00132\n",
       "Proportion of Variance 0.000000 0.000000 0.000000 0.000000 0.000000 0.00000\n",
       "Cumulative Proportion  0.999980 0.999980 0.999980 0.999980 0.999980 0.99998\n",
       "                           PC13     PC14     PC15     PC16     PC17     PC18\n",
       "Standard deviation     0.001287 0.001245 0.001196 0.001141 0.001124 0.001106\n",
       "Proportion of Variance 0.000000 0.000000 0.000000 0.000000 0.000000 0.000000\n",
       "Cumulative Proportion  0.999980 0.999990 0.999990 0.999990 0.999990 0.999990\n",
       "                           PC19     PC20     PC21      PC22      PC23      PC24\n",
       "Standard deviation     0.001098 0.001054 0.001002 0.0009725 0.0009177 0.0009055\n",
       "Proportion of Variance 0.000000 0.000000 0.000000 0.0000000 0.0000000 0.0000000\n",
       "Cumulative Proportion  0.999990 0.999990 0.999990 0.9999900 0.9999900 0.9999900\n",
       "                            PC25      PC26      PC27      PC28      PC29\n",
       "Standard deviation     0.0008769 0.0008287 0.0007956 0.0007879 0.0007646\n",
       "Proportion of Variance 0.0000000 0.0000000 0.0000000 0.0000000 0.0000000\n",
       "Cumulative Proportion  0.9999900 1.0000000 1.0000000 1.0000000 1.0000000\n",
       "                            PC30      PC31      PC32      PC33      PC34\n",
       "Standard deviation     0.0007442 0.0007208 0.0006572 0.0006352 0.0005841\n",
       "Proportion of Variance 0.0000000 0.0000000 0.0000000 0.0000000 0.0000000\n",
       "Cumulative Proportion  1.0000000 1.0000000 1.0000000 1.0000000 1.0000000\n",
       "                            PC35     PC36      PC37     PC38      PC39\n",
       "Standard deviation     0.0005647 0.000543 0.0005095 0.000453 0.0004315\n",
       "Proportion of Variance 0.0000000 0.000000 0.0000000 0.000000 0.0000000\n",
       "Cumulative Proportion  1.0000000 1.000000 1.0000000 1.000000 1.0000000\n",
       "                            PC40      PC41      PC42      PC43      PC44\n",
       "Standard deviation     0.0004073 0.0003928 0.0003834 0.0003298 0.0003091\n",
       "Proportion of Variance 0.0000000 0.0000000 0.0000000 0.0000000 0.0000000\n",
       "Cumulative Proportion  1.0000000 1.0000000 1.0000000 1.0000000 1.0000000\n",
       "                            PC45      PC46      PC47      PC48      PC49\n",
       "Standard deviation     0.0002977 0.0002413 0.0002291 0.0001797 0.0001654\n",
       "Proportion of Variance 0.0000000 0.0000000 0.0000000 0.0000000 0.0000000\n",
       "Cumulative Proportion  1.0000000 1.0000000 1.0000000 1.0000000 1.0000000\n",
       "                            PC50\n",
       "Standard deviation     0.0001103\n",
       "Proportion of Variance 0.0000000\n",
       "Cumulative Proportion  1.0000000"
      ]
     },
     "metadata": {},
     "output_type": "display_data"
    }
   ],
   "source": [
    "# part b - perform PCA, check for seperation in the three classes \n",
    "\n",
    "pca_output = prcomp(dataset)\n",
    "summary(pca_output)\n",
    "\n"
   ]
  },
  {
   "cell_type": "code",
   "execution_count": 39,
   "metadata": {},
   "outputs": [
    {
     "data": {
      "text/html": [
       "<table>\n",
       "<thead><tr><th scope=col>PC1</th><th scope=col>PC2</th></tr></thead>\n",
       "<tbody>\n",
       "\t<tr><td>-0.7070912   </td><td>-0.7074321913</td></tr>\n",
       "\t<tr><td>-0.7072159   </td><td>-0.7075559425</td></tr>\n",
       "\t<tr><td>-0.7080086   </td><td>-0.7083482918</td></tr>\n",
       "\t<tr><td>-0.7074771   </td><td>-0.7078193337</td></tr>\n",
       "\t<tr><td>-0.7051452   </td><td>-0.7054873943</td></tr>\n",
       "\t<tr><td>-0.7070109   </td><td>-0.7073507259</td></tr>\n",
       "\t<tr><td>-0.7063384   </td><td>-0.7066786335</td></tr>\n",
       "\t<tr><td>-0.7071171   </td><td>-0.7074591183</td></tr>\n",
       "\t<tr><td>-0.7065533   </td><td>-0.7068965301</td></tr>\n",
       "\t<tr><td>-0.7070220   </td><td>-0.7073619326</td></tr>\n",
       "\t<tr><td>-0.7060222   </td><td>-0.7063631454</td></tr>\n",
       "\t<tr><td>-0.7073387   </td><td>-0.7076800054</td></tr>\n",
       "\t<tr><td>-0.7081927   </td><td>-0.7085349978</td></tr>\n",
       "\t<tr><td>-0.7063496   </td><td>-0.7066922320</td></tr>\n",
       "\t<tr><td>-0.7071538   </td><td>-0.7074930620</td></tr>\n",
       "\t<tr><td>-0.7059507   </td><td>-0.7062934715</td></tr>\n",
       "\t<tr><td>-0.7068961   </td><td>-0.7072404784</td></tr>\n",
       "\t<tr><td>-0.7059568   </td><td>-0.7063000398</td></tr>\n",
       "\t<tr><td>-0.7067378   </td><td>-0.7070794293</td></tr>\n",
       "\t<tr><td>-0.7072324   </td><td>-0.7075727588</td></tr>\n",
       "\t<tr><td> 1.4142059   </td><td> 0.0001763669</td></tr>\n",
       "\t<tr><td> 1.4142042   </td><td> 0.0001751645</td></tr>\n",
       "\t<tr><td> 1.4142059   </td><td> 0.0001749726</td></tr>\n",
       "\t<tr><td> 1.4142049   </td><td> 0.0001760058</td></tr>\n",
       "\t<tr><td> 1.4142057   </td><td> 0.0001750583</td></tr>\n",
       "\t<tr><td> 1.4142058   </td><td> 0.0001753397</td></tr>\n",
       "\t<tr><td> 1.4142059   </td><td> 0.0001739643</td></tr>\n",
       "\t<tr><td> 1.4142064   </td><td> 0.0001743324</td></tr>\n",
       "\t<tr><td> 1.4142047   </td><td> 0.0001751562</td></tr>\n",
       "\t<tr><td> 1.4142060   </td><td> 0.0001752986</td></tr>\n",
       "\t<tr><td> 1.4142063   </td><td> 0.0001744290</td></tr>\n",
       "\t<tr><td> 1.4142057   </td><td> 0.0001748026</td></tr>\n",
       "\t<tr><td> 1.4142047   </td><td> 0.0001728900</td></tr>\n",
       "\t<tr><td> 1.4142055   </td><td> 0.0001744934</td></tr>\n",
       "\t<tr><td> 1.4142043   </td><td> 0.0001756604</td></tr>\n",
       "\t<tr><td> 1.4142058   </td><td> 0.0001728970</td></tr>\n",
       "\t<tr><td> 1.4142046   </td><td> 0.0001764715</td></tr>\n",
       "\t<tr><td> 1.4142043   </td><td> 0.0001711942</td></tr>\n",
       "\t<tr><td> 1.4142067   </td><td> 0.0001738283</td></tr>\n",
       "\t<tr><td> 1.4142064   </td><td> 0.0001762730</td></tr>\n",
       "\t<tr><td>-0.7064731   </td><td> 0.7061168817</td></tr>\n",
       "\t<tr><td>-0.7083006   </td><td> 0.7079437055</td></tr>\n",
       "\t<tr><td>-0.7063435   </td><td> 0.7059861736</td></tr>\n",
       "\t<tr><td>-0.7081153   </td><td> 0.7077598102</td></tr>\n",
       "\t<tr><td>-0.7072972   </td><td> 0.7069384579</td></tr>\n",
       "\t<tr><td>-0.7067275   </td><td> 0.7063677251</td></tr>\n",
       "\t<tr><td>-0.7073989   </td><td> 0.7070396931</td></tr>\n",
       "\t<tr><td>-0.7073534   </td><td> 0.7069966094</td></tr>\n",
       "\t<tr><td>-0.7071564   </td><td> 0.7068031257</td></tr>\n",
       "\t<tr><td>-0.7069443   </td><td> 0.7065834947</td></tr>\n",
       "\t<tr><td>-0.7069549   </td><td> 0.7065985976</td></tr>\n",
       "\t<tr><td>-0.7084670   </td><td> 0.7081076305</td></tr>\n",
       "\t<tr><td>-0.7073700   </td><td> 0.7070142772</td></tr>\n",
       "\t<tr><td>-0.7070446   </td><td> 0.7066856711</td></tr>\n",
       "\t<tr><td>-0.7068291   </td><td> 0.7064707115</td></tr>\n",
       "\t<tr><td>-0.7074710   </td><td> 0.7071126772</td></tr>\n",
       "\t<tr><td>-0.7077449   </td><td> 0.7073849041</td></tr>\n",
       "\t<tr><td>-0.7082137   </td><td> 0.7078567974</td></tr>\n",
       "\t<tr><td>-0.7077618   </td><td> 0.7074033920</td></tr>\n",
       "\t<tr><td>-0.7073321   </td><td> 0.7069747803</td></tr>\n",
       "</tbody>\n",
       "</table>\n"
      ],
      "text/latex": [
       "\\begin{tabular}{ll}\n",
       " PC1 & PC2\\\\\n",
       "\\hline\n",
       "\t -0.7070912    & -0.7074321913\\\\\n",
       "\t -0.7072159    & -0.7075559425\\\\\n",
       "\t -0.7080086    & -0.7083482918\\\\\n",
       "\t -0.7074771    & -0.7078193337\\\\\n",
       "\t -0.7051452    & -0.7054873943\\\\\n",
       "\t -0.7070109    & -0.7073507259\\\\\n",
       "\t -0.7063384    & -0.7066786335\\\\\n",
       "\t -0.7071171    & -0.7074591183\\\\\n",
       "\t -0.7065533    & -0.7068965301\\\\\n",
       "\t -0.7070220    & -0.7073619326\\\\\n",
       "\t -0.7060222    & -0.7063631454\\\\\n",
       "\t -0.7073387    & -0.7076800054\\\\\n",
       "\t -0.7081927    & -0.7085349978\\\\\n",
       "\t -0.7063496    & -0.7066922320\\\\\n",
       "\t -0.7071538    & -0.7074930620\\\\\n",
       "\t -0.7059507    & -0.7062934715\\\\\n",
       "\t -0.7068961    & -0.7072404784\\\\\n",
       "\t -0.7059568    & -0.7063000398\\\\\n",
       "\t -0.7067378    & -0.7070794293\\\\\n",
       "\t -0.7072324    & -0.7075727588\\\\\n",
       "\t  1.4142059    &  0.0001763669\\\\\n",
       "\t  1.4142042    &  0.0001751645\\\\\n",
       "\t  1.4142059    &  0.0001749726\\\\\n",
       "\t  1.4142049    &  0.0001760058\\\\\n",
       "\t  1.4142057    &  0.0001750583\\\\\n",
       "\t  1.4142058    &  0.0001753397\\\\\n",
       "\t  1.4142059    &  0.0001739643\\\\\n",
       "\t  1.4142064    &  0.0001743324\\\\\n",
       "\t  1.4142047    &  0.0001751562\\\\\n",
       "\t  1.4142060    &  0.0001752986\\\\\n",
       "\t  1.4142063    &  0.0001744290\\\\\n",
       "\t  1.4142057    &  0.0001748026\\\\\n",
       "\t  1.4142047    &  0.0001728900\\\\\n",
       "\t  1.4142055    &  0.0001744934\\\\\n",
       "\t  1.4142043    &  0.0001756604\\\\\n",
       "\t  1.4142058    &  0.0001728970\\\\\n",
       "\t  1.4142046    &  0.0001764715\\\\\n",
       "\t  1.4142043    &  0.0001711942\\\\\n",
       "\t  1.4142067    &  0.0001738283\\\\\n",
       "\t  1.4142064    &  0.0001762730\\\\\n",
       "\t -0.7064731    &  0.7061168817\\\\\n",
       "\t -0.7083006    &  0.7079437055\\\\\n",
       "\t -0.7063435    &  0.7059861736\\\\\n",
       "\t -0.7081153    &  0.7077598102\\\\\n",
       "\t -0.7072972    &  0.7069384579\\\\\n",
       "\t -0.7067275    &  0.7063677251\\\\\n",
       "\t -0.7073989    &  0.7070396931\\\\\n",
       "\t -0.7073534    &  0.7069966094\\\\\n",
       "\t -0.7071564    &  0.7068031257\\\\\n",
       "\t -0.7069443    &  0.7065834947\\\\\n",
       "\t -0.7069549    &  0.7065985976\\\\\n",
       "\t -0.7084670    &  0.7081076305\\\\\n",
       "\t -0.7073700    &  0.7070142772\\\\\n",
       "\t -0.7070446    &  0.7066856711\\\\\n",
       "\t -0.7068291    &  0.7064707115\\\\\n",
       "\t -0.7074710    &  0.7071126772\\\\\n",
       "\t -0.7077449    &  0.7073849041\\\\\n",
       "\t -0.7082137    &  0.7078567974\\\\\n",
       "\t -0.7077618    &  0.7074033920\\\\\n",
       "\t -0.7073321    &  0.7069747803\\\\\n",
       "\\end{tabular}\n"
      ],
      "text/markdown": [
       "\n",
       "| PC1 | PC2 |\n",
       "|---|---|\n",
       "| -0.7070912    | -0.7074321913 |\n",
       "| -0.7072159    | -0.7075559425 |\n",
       "| -0.7080086    | -0.7083482918 |\n",
       "| -0.7074771    | -0.7078193337 |\n",
       "| -0.7051452    | -0.7054873943 |\n",
       "| -0.7070109    | -0.7073507259 |\n",
       "| -0.7063384    | -0.7066786335 |\n",
       "| -0.7071171    | -0.7074591183 |\n",
       "| -0.7065533    | -0.7068965301 |\n",
       "| -0.7070220    | -0.7073619326 |\n",
       "| -0.7060222    | -0.7063631454 |\n",
       "| -0.7073387    | -0.7076800054 |\n",
       "| -0.7081927    | -0.7085349978 |\n",
       "| -0.7063496    | -0.7066922320 |\n",
       "| -0.7071538    | -0.7074930620 |\n",
       "| -0.7059507    | -0.7062934715 |\n",
       "| -0.7068961    | -0.7072404784 |\n",
       "| -0.7059568    | -0.7063000398 |\n",
       "| -0.7067378    | -0.7070794293 |\n",
       "| -0.7072324    | -0.7075727588 |\n",
       "|  1.4142059    |  0.0001763669 |\n",
       "|  1.4142042    |  0.0001751645 |\n",
       "|  1.4142059    |  0.0001749726 |\n",
       "|  1.4142049    |  0.0001760058 |\n",
       "|  1.4142057    |  0.0001750583 |\n",
       "|  1.4142058    |  0.0001753397 |\n",
       "|  1.4142059    |  0.0001739643 |\n",
       "|  1.4142064    |  0.0001743324 |\n",
       "|  1.4142047    |  0.0001751562 |\n",
       "|  1.4142060    |  0.0001752986 |\n",
       "|  1.4142063    |  0.0001744290 |\n",
       "|  1.4142057    |  0.0001748026 |\n",
       "|  1.4142047    |  0.0001728900 |\n",
       "|  1.4142055    |  0.0001744934 |\n",
       "|  1.4142043    |  0.0001756604 |\n",
       "|  1.4142058    |  0.0001728970 |\n",
       "|  1.4142046    |  0.0001764715 |\n",
       "|  1.4142043    |  0.0001711942 |\n",
       "|  1.4142067    |  0.0001738283 |\n",
       "|  1.4142064    |  0.0001762730 |\n",
       "| -0.7064731    |  0.7061168817 |\n",
       "| -0.7083006    |  0.7079437055 |\n",
       "| -0.7063435    |  0.7059861736 |\n",
       "| -0.7081153    |  0.7077598102 |\n",
       "| -0.7072972    |  0.7069384579 |\n",
       "| -0.7067275    |  0.7063677251 |\n",
       "| -0.7073989    |  0.7070396931 |\n",
       "| -0.7073534    |  0.7069966094 |\n",
       "| -0.7071564    |  0.7068031257 |\n",
       "| -0.7069443    |  0.7065834947 |\n",
       "| -0.7069549    |  0.7065985976 |\n",
       "| -0.7084670    |  0.7081076305 |\n",
       "| -0.7073700    |  0.7070142772 |\n",
       "| -0.7070446    |  0.7066856711 |\n",
       "| -0.7068291    |  0.7064707115 |\n",
       "| -0.7074710    |  0.7071126772 |\n",
       "| -0.7077449    |  0.7073849041 |\n",
       "| -0.7082137    |  0.7078567974 |\n",
       "| -0.7077618    |  0.7074033920 |\n",
       "| -0.7073321    |  0.7069747803 |\n",
       "\n"
      ],
      "text/plain": [
       "      PC1        PC2          \n",
       " [1,] -0.7070912 -0.7074321913\n",
       " [2,] -0.7072159 -0.7075559425\n",
       " [3,] -0.7080086 -0.7083482918\n",
       " [4,] -0.7074771 -0.7078193337\n",
       " [5,] -0.7051452 -0.7054873943\n",
       " [6,] -0.7070109 -0.7073507259\n",
       " [7,] -0.7063384 -0.7066786335\n",
       " [8,] -0.7071171 -0.7074591183\n",
       " [9,] -0.7065533 -0.7068965301\n",
       "[10,] -0.7070220 -0.7073619326\n",
       "[11,] -0.7060222 -0.7063631454\n",
       "[12,] -0.7073387 -0.7076800054\n",
       "[13,] -0.7081927 -0.7085349978\n",
       "[14,] -0.7063496 -0.7066922320\n",
       "[15,] -0.7071538 -0.7074930620\n",
       "[16,] -0.7059507 -0.7062934715\n",
       "[17,] -0.7068961 -0.7072404784\n",
       "[18,] -0.7059568 -0.7063000398\n",
       "[19,] -0.7067378 -0.7070794293\n",
       "[20,] -0.7072324 -0.7075727588\n",
       "[21,]  1.4142059  0.0001763669\n",
       "[22,]  1.4142042  0.0001751645\n",
       "[23,]  1.4142059  0.0001749726\n",
       "[24,]  1.4142049  0.0001760058\n",
       "[25,]  1.4142057  0.0001750583\n",
       "[26,]  1.4142058  0.0001753397\n",
       "[27,]  1.4142059  0.0001739643\n",
       "[28,]  1.4142064  0.0001743324\n",
       "[29,]  1.4142047  0.0001751562\n",
       "[30,]  1.4142060  0.0001752986\n",
       "[31,]  1.4142063  0.0001744290\n",
       "[32,]  1.4142057  0.0001748026\n",
       "[33,]  1.4142047  0.0001728900\n",
       "[34,]  1.4142055  0.0001744934\n",
       "[35,]  1.4142043  0.0001756604\n",
       "[36,]  1.4142058  0.0001728970\n",
       "[37,]  1.4142046  0.0001764715\n",
       "[38,]  1.4142043  0.0001711942\n",
       "[39,]  1.4142067  0.0001738283\n",
       "[40,]  1.4142064  0.0001762730\n",
       "[41,] -0.7064731  0.7061168817\n",
       "[42,] -0.7083006  0.7079437055\n",
       "[43,] -0.7063435  0.7059861736\n",
       "[44,] -0.7081153  0.7077598102\n",
       "[45,] -0.7072972  0.7069384579\n",
       "[46,] -0.7067275  0.7063677251\n",
       "[47,] -0.7073989  0.7070396931\n",
       "[48,] -0.7073534  0.7069966094\n",
       "[49,] -0.7071564  0.7068031257\n",
       "[50,] -0.7069443  0.7065834947\n",
       "[51,] -0.7069549  0.7065985976\n",
       "[52,] -0.7084670  0.7081076305\n",
       "[53,] -0.7073700  0.7070142772\n",
       "[54,] -0.7070446  0.7066856711\n",
       "[55,] -0.7068291  0.7064707115\n",
       "[56,] -0.7074710  0.7071126772\n",
       "[57,] -0.7077449  0.7073849041\n",
       "[58,] -0.7082137  0.7078567974\n",
       "[59,] -0.7077618  0.7074033920\n",
       "[60,] -0.7073321  0.7069747803"
      ]
     },
     "metadata": {},
     "output_type": "display_data"
    }
   ],
   "source": [
    "pca_output$x[,1:2]"
   ]
  },
  {
   "cell_type": "code",
   "execution_count": 42,
   "metadata": {},
   "outputs": [
    {
     "data": {
      "image/png": "[encoded data removed]",
      "text/plain": [
       "plot without title"
      ]
     },
     "metadata": {},
     "output_type": "display_data"
    }
   ],
   "source": [
    "# plot the results - shows that the 3 classes are seperated in the first two PC score vectors\n",
    "\n",
    "plot(pca_output$x[,1:2], col=2:4, xlab=\"S1\", ylab=\"S2\", pch=19) "
   ]
  },
  {
   "cell_type": "code",
   "execution_count": 44,
   "metadata": {},
   "outputs": [
    {
     "data": {
      "text/plain": [
       "   \n",
       "     1  2  3\n",
       "  1 20  0  0\n",
       "  2  0 20  0\n",
       "  3  0  0 20"
      ]
     },
     "metadata": {},
     "output_type": "display_data"
    }
   ],
   "source": [
    "# part c - k-means clustering with k=3\n",
    "\n",
    "kmeans_output = kmeans(dataset, 3, nstart=20)\n",
    "table(kmeans_output$cluster, c(rep(1,20), rep(2,20), rep(3,20)))\n",
    "\n",
    "# from the results we can see that the clusters obtained from k-means clustering are a perfect match with the true class labels"
   ]
  },
  {
   "cell_type": "code",
   "execution_count": 45,
   "metadata": {},
   "outputs": [
    {
     "data": {
      "text/plain": [
       "   \n",
       "     1  2  3\n",
       "  1 20  0 20\n",
       "  2  0 20  0"
      ]
     },
     "metadata": {},
     "output_type": "display_data"
    }
   ],
   "source": [
    "# part d - k-means clustering with k=2\n",
    "\n",
    "kmeans_output2 = kmeans(dataset, 2, nstart=20)\n",
    "table(kmeans_output2$cluster, c(rep(1,20), rep(2,20), rep(3,20)))\n",
    "\n",
    "# the results from k=2 are not accurate as one entire class (class 3) has been absorbed into another class (class 1)"
   ]
  },
  {
   "cell_type": "code",
   "execution_count": 46,
   "metadata": {},
   "outputs": [
    {
     "data": {
      "text/plain": [
       "   \n",
       "     1  2  3\n",
       "  1  0 20  0\n",
       "  2  8  0  0\n",
       "  3  0  0 20\n",
       "  4 12  0  0"
      ]
     },
     "metadata": {},
     "output_type": "display_data"
    }
   ],
   "source": [
    "# part e - k-means clustering with k=4\n",
    "\n",
    "kmeans_output3 = kmeans(dataset, 4, nstart=20)\n",
    "table(kmeans_output3$cluster, c(rep(1,20), rep(2,20), rep(3,20)))\n",
    "\n",
    "# in the results with k=4 one of the classes has been split into 2 classes with 8 and 12 observations each. The other 2 classes match correctly"
   ]
  },
  {
   "cell_type": "code",
   "execution_count": 47,
   "metadata": {},
   "outputs": [
    {
     "data": {
      "text/plain": [
       "   \n",
       "     1  2  3\n",
       "  1 20  0  0\n",
       "  2  0 20  0\n",
       "  3  0  0 20"
      ]
     },
     "metadata": {},
     "output_type": "display_data"
    }
   ],
   "source": [
    "# part f - perform k-means clustering with k=3 on PC score vectors \n",
    "\n",
    "kmeans_output4 = kmeans(pca_output$x[,1:2], 3, nstart=20)\n",
    "table(kmeans_output4$cluster, c(rep(1,20), rep(2,20), rep(3,20)))\n",
    "\n",
    "# from the results we can see that the clusters obtained from k-means clustering on PC score vectors are a perfect match with the true class labels"
   ]
  },
  {
   "cell_type": "code",
   "execution_count": 48,
   "metadata": {},
   "outputs": [
    {
     "data": {
      "text/plain": [
       "   \n",
       "     1  2  3\n",
       "  1  4  8  4\n",
       "  2  4 10 10\n",
       "  3 12  2  6"
      ]
     },
     "metadata": {},
     "output_type": "display_data"
    }
   ],
   "source": [
    "# part g - k-means clustering with k=3 and standardized data \n",
    "\n",
    "kmeans_output5 = kmeans(scale(dataset), 3, nstart=20)\n",
    "table(kmeans_output5$cluster, c(rep(1,20), rep(2,20), rep(3,20)))\n",
    "\n",
    "# scaling results in poorer results compared to unscaled data - this is because the true distance between the observations is effected "
   ]
  }
 ],
 "metadata": {
  "kernelspec": {
   "display_name": "R",
   "language": "R",
   "name": "ir"
  },
  "language_info": {
   "codemirror_mode": "r",
   "file_extension": ".r",
   "mimetype": "text/x-r-source",
   "name": "R",
   "pygments_lexer": "r",
   "version": "3.6.0"
  }
 },
 "nbformat": 4,
 "nbformat_minor": 2
}
